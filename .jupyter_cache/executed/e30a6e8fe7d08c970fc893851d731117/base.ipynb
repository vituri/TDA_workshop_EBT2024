{
 "cells": [
  {
   "cell_type": "code",
   "execution_count": 1,
   "id": "b36377a2",
   "metadata": {},
   "outputs": [],
   "source": [
    "import IJulia\n",
    "import Base64\n",
    "\n",
    "# The julia kernel has built in support for Revise.jl, so this is the \n",
    "# recommended approach for long-running sessions:\n",
    "# https://github.com/JuliaLang/IJulia.jl/blob/9b10fa9b879574bbf720f5285029e07758e50a5e/src/kernel.jl#L46-L51\n",
    "\n",
    "# Users should enable revise within .julia/config/startup_ijulia.jl:\n",
    "# https://timholy.github.io/Revise.jl/stable/config/#Using-Revise-automatically-within-Jupyter/IJulia-1\n",
    "\n",
    "# clear console history\n",
    "IJulia.clear_history()\n",
    "\n",
    "fig_width = 7\n",
    "fig_height = 5\n",
    "fig_format = :retina\n",
    "fig_dpi = 96\n",
    "\n",
    "# no retina format type, use svg for high quality type/marks\n",
    "if fig_format == :retina\n",
    "  fig_format = :svg\n",
    "elseif fig_format == :pdf\n",
    "  fig_dpi = 96\n",
    "  # Enable PDF support for IJulia\n",
    "  IJulia.register_mime(MIME(\"application/pdf\"))\n",
    "end\n",
    "\n",
    "# convert inches to pixels\n",
    "fig_width = fig_width * fig_dpi\n",
    "fig_height = fig_height * fig_dpi\n",
    "\n",
    "# Intialize Plots w/ default fig width/height\n",
    "try\n",
    "  import Plots\n",
    "\n",
    "  # Plots.jl doesn't support PDF output for versions < 1.28.1\n",
    "  # so use png (if the DPI remains the default of 300 then set to 96)\n",
    "  if (Plots._current_plots_version < v\"1.28.1\") & (fig_format == :pdf)\n",
    "    Plots.gr(size=(fig_width, fig_height), fmt = :png, dpi = fig_dpi)\n",
    "  else\n",
    "    Plots.gr(size=(fig_width, fig_height), fmt = fig_format, dpi = fig_dpi)\n",
    "  end\n",
    "catch e\n",
    "  # @warn \"Plots init\" exception=(e, catch_backtrace())\n",
    "end\n",
    "\n",
    "# Initialize CairoMakie with default fig width/height\n",
    "try\n",
    "  import CairoMakie\n",
    "\n",
    "  # CairoMakie's display() in PDF format opens an interactive window\n",
    "  # instead of saving to the ipynb file, so we don't do that.\n",
    "  # https://github.com/quarto-dev/quarto-cli/issues/7548\n",
    "  if fig_format == :pdf\n",
    "    CairoMakie.activate!(type = \"png\")\n",
    "  else\n",
    "    CairoMakie.activate!(type = string(fig_format))\n",
    "  end\n",
    "  CairoMakie.update_theme!(resolution=(fig_width, fig_height))\n",
    "catch e\n",
    "    # @warn \"CairoMakie init\" exception=(e, catch_backtrace())\n",
    "end\n",
    "  \n",
    "# Set run_path if specified\n",
    "try\n",
    "  run_path = \"L2hvbWUvdml0dXJpL0RvY3VtZW50b3MvR2l0SHViL1REQV93b3Jrc2hvcF9FQlQyMDI0\"\n",
    "  if !isempty(run_path)\n",
    "    run_path = String(Base64.base64decode(run_path))\n",
    "    cd(run_path)\n",
    "  end\n",
    "catch e\n",
    "  @warn \"Run path init:\" exception=(e, catch_backtrace())\n",
    "end\n",
    "\n",
    "\n",
    "# emulate old Pkg.installed beahvior, see\n",
    "# https://discourse.julialang.org/t/how-to-use-pkg-dependencies-instead-of-pkg-installed/36416/9\n",
    "import Pkg\n",
    "function isinstalled(pkg::String)\n",
    "  any(x -> x.name == pkg && x.is_direct_dep, values(Pkg.dependencies()))\n",
    "end\n",
    "\n",
    "# ojs_define\n",
    "if isinstalled(\"JSON\") && isinstalled(\"DataFrames\")\n",
    "  import JSON, DataFrames\n",
    "  global function ojs_define(; kwargs...)\n",
    "    convert(x) = x\n",
    "    convert(x::DataFrames.AbstractDataFrame) = Tables.rows(x)\n",
    "    content = Dict(\"contents\" => [Dict(\"name\" => k, \"value\" => convert(v)) for (k, v) in kwargs])\n",
    "    tag = \"<script type='ojs-define'>$(JSON.json(content))</script>\"\n",
    "    IJulia.display(MIME(\"text/html\"), tag)\n",
    "  end\n",
    "elseif isinstalled(\"JSON\")\n",
    "  import JSON\n",
    "  global function ojs_define(; kwargs...)\n",
    "    content = Dict(\"contents\" => [Dict(\"name\" => k, \"value\" => v) for (k, v) in kwargs])\n",
    "    tag = \"<script type='ojs-define'>$(JSON.json(content))</script>\"\n",
    "    IJulia.display(MIME(\"text/html\"), tag)\n",
    "  end\n",
    "else\n",
    "  global function ojs_define(; kwargs...)\n",
    "    @warn \"JSON package not available. Please install the JSON.jl package to use ojs_define.\"\n",
    "  end\n",
    "end\n",
    "\n",
    "\n",
    "# don't return kernel dependencies (b/c Revise should take care of dependencies)\n",
    "nothing\n"
   ]
  },
  {
   "cell_type": "code",
   "execution_count": 2,
   "id": "545b24e3",
   "metadata": {},
   "outputs": [
    {
     "data": {
      "text/plain": [
       "1-element Vector{Int64}:\n",
       " 2"
      ]
     },
     "execution_count": 44,
     "metadata": {},
     "output_type": "execute_result"
    }
   ],
   "source": [
    "# calculate the intersection of two vectors/sets\n",
    "[1, 2] ∩ [2, 3, 4]"
   ]
  },
  {
   "cell_type": "code",
   "execution_count": 3,
   "id": "555f3b8c",
   "metadata": {},
   "outputs": [
    {
     "data": {
      "text/plain": [
       "true"
      ]
     },
     "execution_count": 45,
     "metadata": {},
     "output_type": "execute_result"
    }
   ],
   "source": [
    "# check if a value is in a vector/set\n",
    "1 ∉ [2, 3]"
   ]
  },
  {
   "cell_type": "code",
   "execution_count": 4,
   "id": "01ba53ca",
   "metadata": {},
   "outputs": [
    {
     "data": {
      "text/plain": [
       "28.274333882308138"
      ]
     },
     "execution_count": 46,
     "metadata": {},
     "output_type": "execute_result"
    }
   ],
   "source": [
    "# define a function in one line\n",
    "f(r) = π*r^2\n",
    "\n",
    "f(3)"
   ]
  },
  {
   "cell_type": "code",
   "execution_count": 5,
   "id": "086901cc",
   "metadata": {},
   "outputs": [
    {
     "data": {
      "text/plain": [
       "0.0 + 0.0im"
      ]
     },
     "execution_count": 47,
     "metadata": {},
     "output_type": "execute_result"
    }
   ],
   "source": [
    "# Euler's identity\n",
    "ℯ^(im * π) + 1 |> round"
   ]
  },
  {
   "cell_type": "code",
   "execution_count": 6,
   "id": "314de2f1",
   "metadata": {},
   "outputs": [
    {
     "data": {
      "text/plain": [
       "4×4 Matrix{Int64}:\n",
       " 0  1  2  3\n",
       " 1  0  1  2\n",
       " 2  1  0  1\n",
       " 3  2  1  0"
      ]
     },
     "execution_count": 48,
     "metadata": {},
     "output_type": "execute_result"
    }
   ],
   "source": [
    "# calculating the pairwise-distance between points in a set\n",
    "X = [1, 2, 3, 4]\n",
    "d(x, y) = abs(x - y)\n",
    "[d(xᵢ, xⱼ) for xᵢ ∈ X, xⱼ ∈ X]"
   ]
  },
  {
   "cell_type": "code",
   "execution_count": 7,
   "id": "cc2ef3f5",
   "metadata": {},
   "outputs": [
    {
     "data": {
      "text/plain": [
       "4-element Vector{Float64}:\n",
       "  0.8414709848078965\n",
       "  0.9092974268256817\n",
       "  0.1411200080598672\n",
       " -0.7568024953079282"
      ]
     },
     "execution_count": 49,
     "metadata": {},
     "output_type": "execute_result"
    }
   ],
   "source": [
    "x = [1, 2, 3, 4]\n",
    "\n",
    "# broadcast\n",
    "sin.(x)"
   ]
  },
  {
   "cell_type": "code",
   "execution_count": 8,
   "id": "37ede2bc",
   "metadata": {},
   "outputs": [
    {
     "data": {
      "text/plain": [
       "4-element Vector{Float64}:\n",
       "  0.8414709848078965\n",
       "  0.9092974268256817\n",
       "  0.1411200080598672\n",
       " -0.7568024953079282"
      ]
     },
     "execution_count": 50,
     "metadata": {},
     "output_type": "execute_result"
    }
   ],
   "source": [
    "# mapping\n",
    "map(sin, x)"
   ]
  },
  {
   "cell_type": "code",
   "execution_count": 9,
   "id": "d325cdd0",
   "metadata": {},
   "outputs": [
    {
     "data": {
      "text/plain": [
       "4-element Vector{Float64}:\n",
       "  0.8414709848078965\n",
       "  0.9092974268256817\n",
       "  0.1411200080598672\n",
       " -0.7568024953079282"
      ]
     },
     "execution_count": 51,
     "metadata": {},
     "output_type": "execute_result"
    }
   ],
   "source": [
    "# list comprehension\n",
    "[sin(x_i) for x_i ∈ x]"
   ]
  },
  {
   "cell_type": "code",
   "execution_count": 10,
   "id": "e7b5d8ff",
   "metadata": {},
   "outputs": [
    {
     "data": {
      "text/plain": [
       "0.5143952585235492"
      ]
     },
     "execution_count": 52,
     "metadata": {},
     "output_type": "execute_result"
    }
   ],
   "source": [
    "sin(cos(1))"
   ]
  },
  {
   "cell_type": "code",
   "execution_count": 11,
   "id": "1e6e906d",
   "metadata": {},
   "outputs": [
    {
     "data": {
      "text/plain": [
       "0.5143952585235492"
      ]
     },
     "execution_count": 53,
     "metadata": {},
     "output_type": "execute_result"
    }
   ],
   "source": [
    "1 |> cos |> sin"
   ]
  },
  {
   "cell_type": "code",
   "execution_count": 12,
   "id": "ecb006b6",
   "metadata": {},
   "outputs": [
    {
     "data": {
      "text/plain": [
       "3.7416573867739413"
      ]
     },
     "execution_count": 54,
     "metadata": {},
     "output_type": "execute_result"
    }
   ],
   "source": [
    "x = [1, 2, 3]\n",
    "\n",
    "# define the norm of a Vector of Numbers\n",
    "norm(x::Vector{<:Number}) = x.^2 |> sum |> sqrt\n",
    "norm(x)"
   ]
  },
  {
   "cell_type": "code",
   "execution_count": 13,
   "id": "7990767d",
   "metadata": {},
   "outputs": [
    {
     "data": {
      "text/plain": [
       "0.33338333500000006"
      ]
     },
     "execution_count": 55,
     "metadata": {},
     "output_type": "execute_result"
    }
   ],
   "source": [
    "# norm on [0, 1]\n",
    "norm(f::Function; step_size = 0.0001) = \n",
    "  [f(x) * step_size for x ∈ 0:step_size:1] .|> \n",
    "  abs |> sum\n",
    "\n",
    "square = x -> x^2\n",
    "  \n",
    "norm(square)"
   ]
  },
  {
   "cell_type": "code",
   "execution_count": 14,
   "id": "3879d64d",
   "metadata": {},
   "outputs": [
    {
     "data": {
      "image/png": "[encoded data removed]",
      "image/svg+xml": [
       "<?xml version=\"1.0\" encoding=\"utf-8\"?>\n",
       "<svg xmlns=\"http://www.w3.org/2000/svg\" xmlns:xlink=\"http://www.w3.org/1999/xlink\" width=\"672\" height=\"480\" viewBox=\"0 0 2688 1920\">\n",
       "<defs>\n",
       "  <clipPath id=\"clip200\">\n",
       "    <rect x=\"0\" y=\"0\" width=\"2688\" height=\"1920\"/>\n",
       "  </clipPath>\n",
       "</defs>\n",
       "<path clip-path=\"url(#clip200)\" d=\"M0 1920 L2688 1920 L2688 0 L0 0  Z\" fill=\"#ffffff\" fill-rule=\"evenodd\" fill-opacity=\"1\"/>\n",
       "<defs>\n",
       "  <clipPath id=\"clip201\">\n",
       "    <rect x=\"537\" y=\"0\" width=\"1883\" height=\"1883\"/>\n",
       "  </clipPath>\n",
       "</defs>\n",
       "<path clip-path=\"url(#clip200)\" d=\"M189.154 1800.78 L2640.76 1800.78 L2640.76 47.2441 L189.154 47.2441  Z\" fill=\"#ffffff\" fill-rule=\"evenodd\" fill-opacity=\"1\"/>\n",
       "<defs>\n",
       "  <clipPath id=\"clip202\">\n",
       "    <rect x=\"189\" y=\"47\" width=\"2453\" height=\"1755\"/>\n",
       "  </clipPath>\n",
       "</defs>\n",
       "<polyline clip-path=\"url(#clip202)\" style=\"stroke:#000000; stroke-linecap:round; stroke-linejoin:round; stroke-width:2; stroke-opacity:0.1; fill:none\" points=\"258.539,1800.78 258.539,47.2441 \"/>\n",
       "<polyline clip-path=\"url(#clip202)\" style=\"stroke:#000000; stroke-linecap:round; stroke-linejoin:round; stroke-width:2; stroke-opacity:0.1; fill:none\" points=\"836.747,1800.78 836.747,47.2441 \"/>\n",
       "<polyline clip-path=\"url(#clip202)\" style=\"stroke:#000000; stroke-linecap:round; stroke-linejoin:round; stroke-width:2; stroke-opacity:0.1; fill:none\" points=\"1414.95,1800.78 1414.95,47.2441 \"/>\n",
       "<polyline clip-path=\"url(#clip202)\" style=\"stroke:#000000; stroke-linecap:round; stroke-linejoin:round; stroke-width:2; stroke-opacity:0.1; fill:none\" points=\"1993.16,1800.78 1993.16,47.2441 \"/>\n",
       "<polyline clip-path=\"url(#clip202)\" style=\"stroke:#000000; stroke-linecap:round; stroke-linejoin:round; stroke-width:2; stroke-opacity:0.1; fill:none\" points=\"2571.37,1800.78 2571.37,47.2441 \"/>\n",
       "<polyline clip-path=\"url(#clip200)\" style=\"stroke:#000000; stroke-linecap:round; stroke-linejoin:round; stroke-width:4; stroke-opacity:1; fill:none\" points=\"189.154,1800.78 2640.76,1800.78 \"/>\n",
       "<polyline clip-path=\"url(#clip200)\" style=\"stroke:#000000; stroke-linecap:round; stroke-linejoin:round; stroke-width:4; stroke-opacity:1; fill:none\" points=\"258.539,1800.78 258.539,1781.88 \"/>\n",
       "<polyline clip-path=\"url(#clip200)\" style=\"stroke:#000000; stroke-linecap:round; stroke-linejoin:round; stroke-width:4; stroke-opacity:1; fill:none\" points=\"836.747,1800.78 836.747,1781.88 \"/>\n",
       "<polyline clip-path=\"url(#clip200)\" style=\"stroke:#000000; stroke-linecap:round; stroke-linejoin:round; stroke-width:4; stroke-opacity:1; fill:none\" points=\"1414.95,1800.78 1414.95,1781.88 \"/>\n",
       "<polyline clip-path=\"url(#clip200)\" style=\"stroke:#000000; stroke-linecap:round; stroke-linejoin:round; stroke-width:4; stroke-opacity:1; fill:none\" points=\"1993.16,1800.78 1993.16,1781.88 \"/>\n",
       "<polyline clip-path=\"url(#clip200)\" style=\"stroke:#000000; stroke-linecap:round; stroke-linejoin:round; stroke-width:4; stroke-opacity:1; fill:none\" points=\"2571.37,1800.78 2571.37,1781.88 \"/>\n",
       "<path clip-path=\"url(#clip200)\" d=\"M220.842 1834 Q217.231 1834 215.403 1837.57 Q213.597 1841.11 213.597 1848.24 Q213.597 1855.34 215.403 1858.91 Q217.231 1862.45 220.842 1862.45 Q224.477 1862.45 226.282 1858.91 Q228.111 1855.34 228.111 1848.24 Q228.111 1841.11 226.282 1837.57 Q224.477 1834 220.842 1834 M220.842 1830.3 Q226.653 1830.3 229.708 1834.9 Q232.787 1839.49 232.787 1848.24 Q232.787 1856.96 229.708 1861.57 Q226.653 1866.15 220.842 1866.15 Q215.032 1866.15 211.954 1861.57 Q208.898 1856.96 208.898 1848.24 Q208.898 1839.49 211.954 1834.9 Q215.032 1830.3 220.842 1830.3 Z\" fill=\"#000000\" fill-rule=\"nonzero\" fill-opacity=\"1\" /><path clip-path=\"url(#clip200)\" d=\"M241.004 1859.6 L245.889 1859.6 L245.889 1865.48 L241.004 1865.48 L241.004 1859.6 Z\" fill=\"#000000\" fill-rule=\"nonzero\" fill-opacity=\"1\" /><path clip-path=\"url(#clip200)\" d=\"M266.074 1834 Q262.463 1834 260.634 1837.57 Q258.828 1841.11 258.828 1848.24 Q258.828 1855.34 260.634 1858.91 Q262.463 1862.45 266.074 1862.45 Q269.708 1862.45 271.513 1858.91 Q273.342 1855.34 273.342 1848.24 Q273.342 1841.11 271.513 1837.57 Q269.708 1834 266.074 1834 M266.074 1830.3 Q271.884 1830.3 274.939 1834.9 Q278.018 1839.49 278.018 1848.24 Q278.018 1856.96 274.939 1861.57 Q271.884 1866.15 266.074 1866.15 Q260.263 1866.15 257.185 1861.57 Q254.129 1856.96 254.129 1848.24 Q254.129 1839.49 257.185 1834.9 Q260.263 1830.3 266.074 1830.3 Z\" fill=\"#000000\" fill-rule=\"nonzero\" fill-opacity=\"1\" /><path clip-path=\"url(#clip200)\" d=\"M296.236 1834 Q292.624 1834 290.796 1837.57 Q288.99 1841.11 288.99 1848.24 Q288.99 1855.34 290.796 1858.91 Q292.624 1862.45 296.236 1862.45 Q299.87 1862.45 301.675 1858.91 Q303.504 1855.34 303.504 1848.24 Q303.504 1841.11 301.675 1837.57 Q299.87 1834 296.236 1834 M296.236 1830.3 Q302.046 1830.3 305.101 1834.9 Q308.18 1839.49 308.18 1848.24 Q308.18 1856.96 305.101 1861.57 Q302.046 1866.15 296.236 1866.15 Q290.425 1866.15 287.347 1861.57 Q284.291 1856.96 284.291 1848.24 Q284.291 1839.49 287.347 1834.9 Q290.425 1830.3 296.236 1830.3 Z\" fill=\"#000000\" fill-rule=\"nonzero\" fill-opacity=\"1\" /><path clip-path=\"url(#clip200)\" d=\"M799.548 1834 Q795.937 1834 794.108 1837.57 Q792.303 1841.11 792.303 1848.24 Q792.303 1855.34 794.108 1858.91 Q795.937 1862.45 799.548 1862.45 Q803.182 1862.45 804.988 1858.91 Q806.817 1855.34 806.817 1848.24 Q806.817 1841.11 804.988 1837.57 Q803.182 1834 799.548 1834 M799.548 1830.3 Q805.358 1830.3 808.414 1834.9 Q811.492 1839.49 811.492 1848.24 Q811.492 1856.96 808.414 1861.57 Q805.358 1866.15 799.548 1866.15 Q793.738 1866.15 790.659 1861.57 Q787.604 1856.96 787.604 1848.24 Q787.604 1839.49 790.659 1834.9 Q793.738 1830.3 799.548 1830.3 Z\" fill=\"#000000\" fill-rule=\"nonzero\" fill-opacity=\"1\" /><path clip-path=\"url(#clip200)\" d=\"M819.71 1859.6 L824.594 1859.6 L824.594 1865.48 L819.71 1865.48 L819.71 1859.6 Z\" fill=\"#000000\" fill-rule=\"nonzero\" fill-opacity=\"1\" /><path clip-path=\"url(#clip200)\" d=\"M838.807 1861.55 L855.126 1861.55 L855.126 1865.48 L833.182 1865.48 L833.182 1861.55 Q835.844 1858.79 840.427 1854.16 Q845.034 1849.51 846.214 1848.17 Q848.46 1845.65 849.339 1843.91 Q850.242 1842.15 850.242 1840.46 Q850.242 1837.71 848.298 1835.97 Q846.377 1834.23 843.275 1834.23 Q841.076 1834.23 838.622 1835 Q836.191 1835.76 833.414 1837.31 L833.414 1832.59 Q836.238 1831.46 838.691 1830.88 Q841.145 1830.3 843.182 1830.3 Q848.552 1830.3 851.747 1832.98 Q854.941 1835.67 854.941 1840.16 Q854.941 1842.29 854.131 1844.21 Q853.344 1846.11 851.238 1848.7 Q850.659 1849.37 847.557 1852.59 Q844.455 1855.78 838.807 1861.55 Z\" fill=\"#000000\" fill-rule=\"nonzero\" fill-opacity=\"1\" /><path clip-path=\"url(#clip200)\" d=\"M864.988 1830.92 L883.344 1830.92 L883.344 1834.86 L869.27 1834.86 L869.27 1843.33 Q870.288 1842.98 871.307 1842.82 Q872.325 1842.64 873.344 1842.64 Q879.131 1842.64 882.511 1845.81 Q885.89 1848.98 885.89 1854.4 Q885.89 1859.97 882.418 1863.08 Q878.946 1866.15 872.626 1866.15 Q870.45 1866.15 868.182 1865.78 Q865.937 1865.41 863.529 1864.67 L863.529 1859.97 Q865.613 1861.11 867.835 1861.66 Q870.057 1862.22 872.534 1862.22 Q876.538 1862.22 878.876 1860.11 Q881.214 1858.01 881.214 1854.4 Q881.214 1850.78 878.876 1848.68 Q876.538 1846.57 872.534 1846.57 Q870.659 1846.57 868.784 1846.99 Q866.932 1847.4 864.988 1848.28 L864.988 1830.92 Z\" fill=\"#000000\" fill-rule=\"nonzero\" fill-opacity=\"1\" /><path clip-path=\"url(#clip200)\" d=\"M1377.26 1834 Q1373.65 1834 1371.82 1837.57 Q1370.01 1841.11 1370.01 1848.24 Q1370.01 1855.34 1371.82 1858.91 Q1373.65 1862.45 1377.26 1862.45 Q1380.89 1862.45 1382.7 1858.91 Q1384.53 1855.34 1384.53 1848.24 Q1384.53 1841.11 1382.7 1837.57 Q1380.89 1834 1377.26 1834 M1377.26 1830.3 Q1383.07 1830.3 1386.12 1834.9 Q1389.2 1839.49 1389.2 1848.24 Q1389.2 1856.96 1386.12 1861.57 Q1383.07 1866.15 1377.26 1866.15 Q1371.45 1866.15 1368.37 1861.57 Q1365.31 1856.96 1365.31 1848.24 Q1365.31 1839.49 1368.37 1834.9 Q1371.45 1830.3 1377.26 1830.3 Z\" fill=\"#000000\" fill-rule=\"nonzero\" fill-opacity=\"1\" /><path clip-path=\"url(#clip200)\" d=\"M1397.42 1859.6 L1402.3 1859.6 L1402.3 1865.48 L1397.42 1865.48 L1397.42 1859.6 Z\" fill=\"#000000\" fill-rule=\"nonzero\" fill-opacity=\"1\" /><path clip-path=\"url(#clip200)\" d=\"M1412.54 1830.92 L1430.89 1830.92 L1430.89 1834.86 L1416.82 1834.86 L1416.82 1843.33 Q1417.84 1842.98 1418.86 1842.82 Q1419.87 1842.64 1420.89 1842.64 Q1426.68 1842.64 1430.06 1845.81 Q1433.44 1848.98 1433.44 1854.4 Q1433.44 1859.97 1429.97 1863.08 Q1426.49 1866.15 1420.17 1866.15 Q1418 1866.15 1415.73 1865.78 Q1413.49 1865.41 1411.08 1864.67 L1411.08 1859.97 Q1413.16 1861.11 1415.38 1861.66 Q1417.61 1862.22 1420.08 1862.22 Q1424.09 1862.22 1426.42 1860.11 Q1428.76 1858.01 1428.76 1854.4 Q1428.76 1850.78 1426.42 1848.68 Q1424.09 1846.57 1420.08 1846.57 Q1418.21 1846.57 1416.33 1846.99 Q1414.48 1847.4 1412.54 1848.28 L1412.54 1830.92 Z\" fill=\"#000000\" fill-rule=\"nonzero\" fill-opacity=\"1\" /><path clip-path=\"url(#clip200)\" d=\"M1452.65 1834 Q1449.04 1834 1447.21 1837.57 Q1445.41 1841.11 1445.41 1848.24 Q1445.41 1855.34 1447.21 1858.91 Q1449.04 1862.45 1452.65 1862.45 Q1456.29 1862.45 1458.09 1858.91 Q1459.92 1855.34 1459.92 1848.24 Q1459.92 1841.11 1458.09 1837.57 Q1456.29 1834 1452.65 1834 M1452.65 1830.3 Q1458.46 1830.3 1461.52 1834.9 Q1464.6 1839.49 1464.6 1848.24 Q1464.6 1856.96 1461.52 1861.57 Q1458.46 1866.15 1452.65 1866.15 Q1446.84 1866.15 1443.76 1861.57 Q1440.71 1856.96 1440.71 1848.24 Q1440.71 1839.49 1443.76 1834.9 Q1446.84 1830.3 1452.65 1830.3 Z\" fill=\"#000000\" fill-rule=\"nonzero\" fill-opacity=\"1\" /><path clip-path=\"url(#clip200)\" d=\"M1955.96 1834 Q1952.35 1834 1950.52 1837.57 Q1948.72 1841.11 1948.72 1848.24 Q1948.72 1855.34 1950.52 1858.91 Q1952.35 1862.45 1955.96 1862.45 Q1959.6 1862.45 1961.4 1858.91 Q1963.23 1855.34 1963.23 1848.24 Q1963.23 1841.11 1961.4 1837.57 Q1959.6 1834 1955.96 1834 M1955.96 1830.3 Q1961.77 1830.3 1964.83 1834.9 Q1967.91 1839.49 1967.91 1848.24 Q1967.91 1856.96 1964.83 1861.57 Q1961.77 1866.15 1955.96 1866.15 Q1950.15 1866.15 1947.08 1861.57 Q1944.02 1856.96 1944.02 1848.24 Q1944.02 1839.49 1947.08 1834.9 Q1950.15 1830.3 1955.96 1830.3 Z\" fill=\"#000000\" fill-rule=\"nonzero\" fill-opacity=\"1\" /><path clip-path=\"url(#clip200)\" d=\"M1976.13 1859.6 L1981.01 1859.6 L1981.01 1865.48 L1976.13 1865.48 L1976.13 1859.6 Z\" fill=\"#000000\" fill-rule=\"nonzero\" fill-opacity=\"1\" /><path clip-path=\"url(#clip200)\" d=\"M1990.01 1830.92 L2012.24 1830.92 L2012.24 1832.91 L1999.69 1865.48 L1994.81 1865.48 L2006.61 1834.86 L1990.01 1834.86 L1990.01 1830.92 Z\" fill=\"#000000\" fill-rule=\"nonzero\" fill-opacity=\"1\" /><path clip-path=\"url(#clip200)\" d=\"M2021.4 1830.92 L2039.76 1830.92 L2039.76 1834.86 L2025.69 1834.86 L2025.69 1843.33 Q2026.7 1842.98 2027.72 1842.82 Q2028.74 1842.64 2029.76 1842.64 Q2035.55 1842.64 2038.93 1845.81 Q2042.31 1848.98 2042.31 1854.4 Q2042.31 1859.97 2038.83 1863.08 Q2035.36 1866.15 2029.04 1866.15 Q2026.87 1866.15 2024.6 1865.78 Q2022.35 1865.41 2019.95 1864.67 L2019.95 1859.97 Q2022.03 1861.11 2024.25 1861.66 Q2026.47 1862.22 2028.95 1862.22 Q2032.95 1862.22 2035.29 1860.11 Q2037.63 1858.01 2037.63 1854.4 Q2037.63 1850.78 2035.29 1848.68 Q2032.95 1846.57 2028.95 1846.57 Q2027.07 1846.57 2025.2 1846.99 Q2023.35 1847.4 2021.4 1848.28 L2021.4 1830.92 Z\" fill=\"#000000\" fill-rule=\"nonzero\" fill-opacity=\"1\" /><path clip-path=\"url(#clip200)\" d=\"M2523.44 1861.55 L2531.08 1861.55 L2531.08 1835.18 L2522.77 1836.85 L2522.77 1832.59 L2531.04 1830.92 L2535.71 1830.92 L2535.71 1861.55 L2543.35 1861.55 L2543.35 1865.48 L2523.44 1865.48 L2523.44 1861.55 Z\" fill=\"#000000\" fill-rule=\"nonzero\" fill-opacity=\"1\" /><path clip-path=\"url(#clip200)\" d=\"M2552.79 1859.6 L2557.68 1859.6 L2557.68 1865.48 L2552.79 1865.48 L2552.79 1859.6 Z\" fill=\"#000000\" fill-rule=\"nonzero\" fill-opacity=\"1\" /><path clip-path=\"url(#clip200)\" d=\"M2577.86 1834 Q2574.25 1834 2572.42 1837.57 Q2570.62 1841.11 2570.62 1848.24 Q2570.62 1855.34 2572.42 1858.91 Q2574.25 1862.45 2577.86 1862.45 Q2581.5 1862.45 2583.3 1858.91 Q2585.13 1855.34 2585.13 1848.24 Q2585.13 1841.11 2583.3 1837.57 Q2581.5 1834 2577.86 1834 M2577.86 1830.3 Q2583.67 1830.3 2586.73 1834.9 Q2589.81 1839.49 2589.81 1848.24 Q2589.81 1856.96 2586.73 1861.57 Q2583.67 1866.15 2577.86 1866.15 Q2572.05 1866.15 2568.98 1861.57 Q2565.92 1856.96 2565.92 1848.24 Q2565.92 1839.49 2568.98 1834.9 Q2572.05 1830.3 2577.86 1830.3 Z\" fill=\"#000000\" fill-rule=\"nonzero\" fill-opacity=\"1\" /><path clip-path=\"url(#clip200)\" d=\"M2608.03 1834 Q2604.41 1834 2602.59 1837.57 Q2600.78 1841.11 2600.78 1848.24 Q2600.78 1855.34 2602.59 1858.91 Q2604.41 1862.45 2608.03 1862.45 Q2611.66 1862.45 2613.47 1858.91 Q2615.29 1855.34 2615.29 1848.24 Q2615.29 1841.11 2613.47 1837.57 Q2611.66 1834 2608.03 1834 M2608.03 1830.3 Q2613.84 1830.3 2616.89 1834.9 Q2619.97 1839.49 2619.97 1848.24 Q2619.97 1856.96 2616.89 1861.57 Q2613.84 1866.15 2608.03 1866.15 Q2602.22 1866.15 2599.14 1861.57 Q2596.08 1856.96 2596.08 1848.24 Q2596.08 1839.49 2599.14 1834.9 Q2602.22 1830.3 2608.03 1830.3 Z\" fill=\"#000000\" fill-rule=\"nonzero\" fill-opacity=\"1\" /><polyline clip-path=\"url(#clip202)\" style=\"stroke:#000000; stroke-linecap:round; stroke-linejoin:round; stroke-width:2; stroke-opacity:0.1; fill:none\" points=\"189.154,1751.15 2640.76,1751.15 \"/>\n",
       "<polyline clip-path=\"url(#clip202)\" style=\"stroke:#000000; stroke-linecap:round; stroke-linejoin:round; stroke-width:2; stroke-opacity:0.1; fill:none\" points=\"189.154,1337.58 2640.76,1337.58 \"/>\n",
       "<polyline clip-path=\"url(#clip202)\" style=\"stroke:#000000; stroke-linecap:round; stroke-linejoin:round; stroke-width:2; stroke-opacity:0.1; fill:none\" points=\"189.154,924.012 2640.76,924.012 \"/>\n",
       "<polyline clip-path=\"url(#clip202)\" style=\"stroke:#000000; stroke-linecap:round; stroke-linejoin:round; stroke-width:2; stroke-opacity:0.1; fill:none\" points=\"189.154,510.442 2640.76,510.442 \"/>\n",
       "<polyline clip-path=\"url(#clip202)\" style=\"stroke:#000000; stroke-linecap:round; stroke-linejoin:round; stroke-width:2; stroke-opacity:0.1; fill:none\" points=\"189.154,96.8724 2640.76,96.8724 \"/>\n",
       "<polyline clip-path=\"url(#clip200)\" style=\"stroke:#000000; stroke-linecap:round; stroke-linejoin:round; stroke-width:4; stroke-opacity:1; fill:none\" points=\"189.154,1800.78 189.154,47.2441 \"/>\n",
       "<polyline clip-path=\"url(#clip200)\" style=\"stroke:#000000; stroke-linecap:round; stroke-linejoin:round; stroke-width:4; stroke-opacity:1; fill:none\" points=\"189.154,1751.15 208.052,1751.15 \"/>\n",
       "<polyline clip-path=\"url(#clip200)\" style=\"stroke:#000000; stroke-linecap:round; stroke-linejoin:round; stroke-width:4; stroke-opacity:1; fill:none\" points=\"189.154,1337.58 208.052,1337.58 \"/>\n",
       "<polyline clip-path=\"url(#clip200)\" style=\"stroke:#000000; stroke-linecap:round; stroke-linejoin:round; stroke-width:4; stroke-opacity:1; fill:none\" points=\"189.154,924.012 208.052,924.012 \"/>\n",
       "<polyline clip-path=\"url(#clip200)\" style=\"stroke:#000000; stroke-linecap:round; stroke-linejoin:round; stroke-width:4; stroke-opacity:1; fill:none\" points=\"189.154,510.442 208.052,510.442 \"/>\n",
       "<polyline clip-path=\"url(#clip200)\" style=\"stroke:#000000; stroke-linecap:round; stroke-linejoin:round; stroke-width:4; stroke-opacity:1; fill:none\" points=\"189.154,96.8724 208.052,96.8724 \"/>\n",
       "<path clip-path=\"url(#clip200)\" d=\"M61.4965 1736.95 Q57.8854 1736.95 56.0567 1740.51 Q54.2512 1744.06 54.2512 1751.19 Q54.2512 1758.29 56.0567 1761.86 Q57.8854 1765.4 61.4965 1765.4 Q65.1307 1765.4 66.9363 1761.86 Q68.765 1758.29 68.765 1751.19 Q68.765 1744.06 66.9363 1740.51 Q65.1307 1736.95 61.4965 1736.95 M61.4965 1733.25 Q67.3067 1733.25 70.3622 1737.85 Q73.4409 1742.44 73.4409 1751.19 Q73.4409 1759.91 70.3622 1764.52 Q67.3067 1769.1 61.4965 1769.1 Q55.6864 1769.1 52.6077 1764.52 Q49.5521 1759.91 49.5521 1751.19 Q49.5521 1742.44 52.6077 1737.85 Q55.6864 1733.25 61.4965 1733.25 Z\" fill=\"#000000\" fill-rule=\"nonzero\" fill-opacity=\"1\" /><path clip-path=\"url(#clip200)\" d=\"M81.6584 1762.55 L86.5427 1762.55 L86.5427 1768.43 L81.6584 1768.43 L81.6584 1762.55 Z\" fill=\"#000000\" fill-rule=\"nonzero\" fill-opacity=\"1\" /><path clip-path=\"url(#clip200)\" d=\"M106.728 1736.95 Q103.117 1736.95 101.288 1740.51 Q99.4824 1744.06 99.4824 1751.19 Q99.4824 1758.29 101.288 1761.86 Q103.117 1765.4 106.728 1765.4 Q110.362 1765.4 112.168 1761.86 Q113.996 1758.29 113.996 1751.19 Q113.996 1744.06 112.168 1740.51 Q110.362 1736.95 106.728 1736.95 M106.728 1733.25 Q112.538 1733.25 115.593 1737.85 Q118.672 1742.44 118.672 1751.19 Q118.672 1759.91 115.593 1764.52 Q112.538 1769.1 106.728 1769.1 Q100.918 1769.1 97.8389 1764.52 Q94.7834 1759.91 94.7834 1751.19 Q94.7834 1742.44 97.8389 1737.85 Q100.918 1733.25 106.728 1733.25 Z\" fill=\"#000000\" fill-rule=\"nonzero\" fill-opacity=\"1\" /><path clip-path=\"url(#clip200)\" d=\"M136.89 1736.95 Q133.279 1736.95 131.45 1740.51 Q129.644 1744.06 129.644 1751.19 Q129.644 1758.29 131.45 1761.86 Q133.279 1765.4 136.89 1765.4 Q140.524 1765.4 142.329 1761.86 Q144.158 1758.29 144.158 1751.19 Q144.158 1744.06 142.329 1740.51 Q140.524 1736.95 136.89 1736.95 M136.89 1733.25 Q142.7 1733.25 145.755 1737.85 Q148.834 1742.44 148.834 1751.19 Q148.834 1759.91 145.755 1764.52 Q142.7 1769.1 136.89 1769.1 Q131.079 1769.1 128.001 1764.52 Q124.945 1759.91 124.945 1751.19 Q124.945 1742.44 128.001 1737.85 Q131.079 1733.25 136.89 1733.25 Z\" fill=\"#000000\" fill-rule=\"nonzero\" fill-opacity=\"1\" /><path clip-path=\"url(#clip200)\" d=\"M62.4919 1323.38 Q58.8808 1323.38 57.0521 1326.94 Q55.2465 1330.49 55.2465 1337.62 Q55.2465 1344.72 57.0521 1348.29 Q58.8808 1351.83 62.4919 1351.83 Q66.1261 1351.83 67.9317 1348.29 Q69.7604 1344.72 69.7604 1337.62 Q69.7604 1330.49 67.9317 1326.94 Q66.1261 1323.38 62.4919 1323.38 M62.4919 1319.68 Q68.302 1319.68 71.3576 1324.28 Q74.4363 1328.87 74.4363 1337.62 Q74.4363 1346.34 71.3576 1350.95 Q68.302 1355.53 62.4919 1355.53 Q56.6817 1355.53 53.603 1350.95 Q50.5475 1346.34 50.5475 1337.62 Q50.5475 1328.87 53.603 1324.28 Q56.6817 1319.68 62.4919 1319.68 Z\" fill=\"#000000\" fill-rule=\"nonzero\" fill-opacity=\"1\" /><path clip-path=\"url(#clip200)\" d=\"M82.6538 1348.98 L87.538 1348.98 L87.538 1354.86 L82.6538 1354.86 L82.6538 1348.98 Z\" fill=\"#000000\" fill-rule=\"nonzero\" fill-opacity=\"1\" /><path clip-path=\"url(#clip200)\" d=\"M101.751 1350.93 L118.07 1350.93 L118.07 1354.86 L96.126 1354.86 L96.126 1350.93 Q98.788 1348.17 103.371 1343.54 Q107.978 1338.89 109.158 1337.55 Q111.404 1335.02 112.283 1333.29 Q113.186 1331.53 113.186 1329.84 Q113.186 1327.08 111.242 1325.35 Q109.32 1323.61 106.218 1323.61 Q104.019 1323.61 101.566 1324.38 Q99.1352 1325.14 96.3574 1326.69 L96.3574 1321.97 Q99.1815 1320.83 101.635 1320.26 Q104.089 1319.68 106.126 1319.68 Q111.496 1319.68 114.691 1322.36 Q117.885 1325.05 117.885 1329.54 Q117.885 1331.67 117.075 1333.59 Q116.288 1335.49 114.181 1338.08 Q113.603 1338.75 110.501 1341.97 Q107.399 1345.16 101.751 1350.93 Z\" fill=\"#000000\" fill-rule=\"nonzero\" fill-opacity=\"1\" /><path clip-path=\"url(#clip200)\" d=\"M127.931 1320.3 L146.288 1320.3 L146.288 1324.24 L132.214 1324.24 L132.214 1332.71 Q133.232 1332.36 134.251 1332.2 Q135.269 1332.01 136.288 1332.01 Q142.075 1332.01 145.454 1335.19 Q148.834 1338.36 148.834 1343.77 Q148.834 1349.35 145.362 1352.45 Q141.89 1355.53 135.57 1355.53 Q133.394 1355.53 131.126 1355.16 Q128.88 1354.79 126.473 1354.05 L126.473 1349.35 Q128.556 1350.49 130.779 1351.04 Q133.001 1351.6 135.478 1351.6 Q139.482 1351.6 141.82 1349.49 Q144.158 1347.38 144.158 1343.77 Q144.158 1340.16 141.82 1338.06 Q139.482 1335.95 135.478 1335.95 Q133.603 1335.95 131.728 1336.37 Q129.876 1336.78 127.931 1337.66 L127.931 1320.3 Z\" fill=\"#000000\" fill-rule=\"nonzero\" fill-opacity=\"1\" /><path clip-path=\"url(#clip200)\" d=\"M61.4965 909.81 Q57.8854 909.81 56.0567 913.375 Q54.2512 916.917 54.2512 924.046 Q54.2512 931.153 56.0567 934.718 Q57.8854 938.259 61.4965 938.259 Q65.1307 938.259 66.9363 934.718 Q68.765 931.153 68.765 924.046 Q68.765 916.917 66.9363 913.375 Q65.1307 909.81 61.4965 909.81 M61.4965 906.107 Q67.3067 906.107 70.3622 910.713 Q73.4409 915.296 73.4409 924.046 Q73.4409 932.773 70.3622 937.38 Q67.3067 941.963 61.4965 941.963 Q55.6864 941.963 52.6077 937.38 Q49.5521 932.773 49.5521 924.046 Q49.5521 915.296 52.6077 910.713 Q55.6864 906.107 61.4965 906.107 Z\" fill=\"#000000\" fill-rule=\"nonzero\" fill-opacity=\"1\" /><path clip-path=\"url(#clip200)\" d=\"M81.6584 935.412 L86.5427 935.412 L86.5427 941.292 L81.6584 941.292 L81.6584 935.412 Z\" fill=\"#000000\" fill-rule=\"nonzero\" fill-opacity=\"1\" /><path clip-path=\"url(#clip200)\" d=\"M96.7741 906.732 L115.13 906.732 L115.13 910.667 L101.056 910.667 L101.056 919.139 Q102.075 918.792 103.094 918.63 Q104.112 918.445 105.131 918.445 Q110.918 918.445 114.297 921.616 Q117.677 924.787 117.677 930.204 Q117.677 935.782 114.205 938.884 Q110.732 941.963 104.413 941.963 Q102.237 941.963 99.9685 941.593 Q97.7232 941.222 95.3158 940.482 L95.3158 935.782 Q97.3991 936.917 99.6213 937.472 Q101.844 938.028 104.32 938.028 Q108.325 938.028 110.663 935.921 Q113.001 933.815 113.001 930.204 Q113.001 926.593 110.663 924.486 Q108.325 922.38 104.32 922.38 Q102.445 922.38 100.57 922.796 Q98.7185 923.213 96.7741 924.093 L96.7741 906.732 Z\" fill=\"#000000\" fill-rule=\"nonzero\" fill-opacity=\"1\" /><path clip-path=\"url(#clip200)\" d=\"M136.89 909.81 Q133.279 909.81 131.45 913.375 Q129.644 916.917 129.644 924.046 Q129.644 931.153 131.45 934.718 Q133.279 938.259 136.89 938.259 Q140.524 938.259 142.329 934.718 Q144.158 931.153 144.158 924.046 Q144.158 916.917 142.329 913.375 Q140.524 909.81 136.89 909.81 M136.89 906.107 Q142.7 906.107 145.755 910.713 Q148.834 915.296 148.834 924.046 Q148.834 932.773 145.755 937.38 Q142.7 941.963 136.89 941.963 Q131.079 941.963 128.001 937.38 Q124.945 932.773 124.945 924.046 Q124.945 915.296 128.001 910.713 Q131.079 906.107 136.89 906.107 Z\" fill=\"#000000\" fill-rule=\"nonzero\" fill-opacity=\"1\" /><path clip-path=\"url(#clip200)\" d=\"M62.4919 496.241 Q58.8808 496.241 57.0521 499.806 Q55.2465 503.347 55.2465 510.477 Q55.2465 517.583 57.0521 521.148 Q58.8808 524.69 62.4919 524.69 Q66.1261 524.69 67.9317 521.148 Q69.7604 517.583 69.7604 510.477 Q69.7604 503.347 67.9317 499.806 Q66.1261 496.241 62.4919 496.241 M62.4919 492.537 Q68.302 492.537 71.3576 497.144 Q74.4363 501.727 74.4363 510.477 Q74.4363 519.204 71.3576 523.81 Q68.302 528.393 62.4919 528.393 Q56.6817 528.393 53.603 523.81 Q50.5475 519.204 50.5475 510.477 Q50.5475 501.727 53.603 497.144 Q56.6817 492.537 62.4919 492.537 Z\" fill=\"#000000\" fill-rule=\"nonzero\" fill-opacity=\"1\" /><path clip-path=\"url(#clip200)\" d=\"M82.6538 521.842 L87.538 521.842 L87.538 527.722 L82.6538 527.722 L82.6538 521.842 Z\" fill=\"#000000\" fill-rule=\"nonzero\" fill-opacity=\"1\" /><path clip-path=\"url(#clip200)\" d=\"M96.5426 493.162 L118.765 493.162 L118.765 495.153 L106.218 527.722 L101.334 527.722 L113.14 497.097 L96.5426 497.097 L96.5426 493.162 Z\" fill=\"#000000\" fill-rule=\"nonzero\" fill-opacity=\"1\" /><path clip-path=\"url(#clip200)\" d=\"M127.931 493.162 L146.288 493.162 L146.288 497.097 L132.214 497.097 L132.214 505.569 Q133.232 505.222 134.251 505.06 Q135.269 504.875 136.288 504.875 Q142.075 504.875 145.454 508.046 Q148.834 511.218 148.834 516.634 Q148.834 522.213 145.362 525.315 Q141.89 528.393 135.57 528.393 Q133.394 528.393 131.126 528.023 Q128.88 527.653 126.473 526.912 L126.473 522.213 Q128.556 523.347 130.779 523.903 Q133.001 524.458 135.478 524.458 Q139.482 524.458 141.82 522.352 Q144.158 520.245 144.158 516.634 Q144.158 513.023 141.82 510.917 Q139.482 508.81 135.478 508.81 Q133.603 508.81 131.728 509.227 Q129.876 509.643 127.931 510.523 L127.931 493.162 Z\" fill=\"#000000\" fill-rule=\"nonzero\" fill-opacity=\"1\" /><path clip-path=\"url(#clip200)\" d=\"M52.3067 110.217 L59.9456 110.217 L59.9456 83.8517 L51.6354 85.5183 L51.6354 81.2591 L59.8993 79.5924 L64.5752 79.5924 L64.5752 110.217 L72.214 110.217 L72.214 114.152 L52.3067 114.152 L52.3067 110.217 Z\" fill=\"#000000\" fill-rule=\"nonzero\" fill-opacity=\"1\" /><path clip-path=\"url(#clip200)\" d=\"M81.6584 108.273 L86.5427 108.273 L86.5427 114.152 L81.6584 114.152 L81.6584 108.273 Z\" fill=\"#000000\" fill-rule=\"nonzero\" fill-opacity=\"1\" /><path clip-path=\"url(#clip200)\" d=\"M106.728 82.6711 Q103.117 82.6711 101.288 86.2359 Q99.4824 89.7776 99.4824 96.9072 Q99.4824 104.014 101.288 107.578 Q103.117 111.12 106.728 111.12 Q110.362 111.12 112.168 107.578 Q113.996 104.014 113.996 96.9072 Q113.996 89.7776 112.168 86.2359 Q110.362 82.6711 106.728 82.6711 M106.728 78.9675 Q112.538 78.9675 115.593 83.5739 Q118.672 88.1572 118.672 96.9072 Q118.672 105.634 115.593 110.24 Q112.538 114.824 106.728 114.824 Q100.918 114.824 97.8389 110.24 Q94.7834 105.634 94.7834 96.9072 Q94.7834 88.1572 97.8389 83.5739 Q100.918 78.9675 106.728 78.9675 Z\" fill=\"#000000\" fill-rule=\"nonzero\" fill-opacity=\"1\" /><path clip-path=\"url(#clip200)\" d=\"M136.89 82.6711 Q133.279 82.6711 131.45 86.2359 Q129.644 89.7776 129.644 96.9072 Q129.644 104.014 131.45 107.578 Q133.279 111.12 136.89 111.12 Q140.524 111.12 142.329 107.578 Q144.158 104.014 144.158 96.9072 Q144.158 89.7776 142.329 86.2359 Q140.524 82.6711 136.89 82.6711 M136.89 78.9675 Q142.7 78.9675 145.755 83.5739 Q148.834 88.1572 148.834 96.9072 Q148.834 105.634 145.755 110.24 Q142.7 114.824 136.89 114.824 Q131.079 114.824 128.001 110.24 Q124.945 105.634 124.945 96.9072 Q124.945 88.1572 128.001 83.5739 Q131.079 78.9675 136.89 78.9675 Z\" fill=\"#000000\" fill-rule=\"nonzero\" fill-opacity=\"1\" /><polyline clip-path=\"url(#clip202)\" style=\"stroke:#009af9; stroke-linecap:round; stroke-linejoin:round; stroke-width:4; stroke-opacity:1; fill:none\" points=\"258.539,1751.15 489.822,1734.61 721.105,1684.98 952.389,1602.27 1183.67,1486.47 1414.95,1337.58 1646.24,1155.61 1877.52,940.554 2108.8,692.413 2340.09,411.185 2571.37,96.8724 \"/>\n",
       "<path clip-path=\"url(#clip200)\" d=\"M270.874 209.375 L568.465 209.375 L568.465 105.695 L270.874 105.695  Z\" fill=\"#ffffff\" fill-rule=\"evenodd\" fill-opacity=\"1\"/>\n",
       "<polyline clip-path=\"url(#clip200)\" style=\"stroke:#000000; stroke-linecap:round; stroke-linejoin:round; stroke-width:4; stroke-opacity:1; fill:none\" points=\"270.874,209.375 568.465,209.375 568.465,105.695 270.874,105.695 270.874,209.375 \"/>\n",
       "<polyline clip-path=\"url(#clip200)\" style=\"stroke:#009af9; stroke-linecap:round; stroke-linejoin:round; stroke-width:4; stroke-opacity:1; fill:none\" points=\"298.114,157.535 461.554,157.535 \"/>\n",
       "<path clip-path=\"url(#clip200)\" d=\"M502.637 177.223 Q500.831 181.852 499.118 183.264 Q497.405 184.676 494.535 184.676 L491.132 184.676 L491.132 181.112 L493.632 181.112 Q495.391 181.112 496.364 180.278 Q497.336 179.445 498.516 176.343 L499.28 174.399 L488.794 148.889 L493.308 148.889 L501.41 169.167 L509.512 148.889 L514.026 148.889 L502.637 177.223 Z\" fill=\"#000000\" fill-rule=\"nonzero\" fill-opacity=\"1\" /><path clip-path=\"url(#clip200)\" d=\"M521.317 170.88 L528.956 170.88 L528.956 144.515 L520.646 146.181 L520.646 141.922 L528.91 140.255 L533.586 140.255 L533.586 170.88 L541.225 170.88 L541.225 174.815 L521.317 174.815 L521.317 170.88 Z\" fill=\"#000000\" fill-rule=\"nonzero\" fill-opacity=\"1\" /></svg>\n"
      ],
      "text/html": [
       "<?xml version=\"1.0\" encoding=\"utf-8\"?>\n",
       "<svg xmlns=\"http://www.w3.org/2000/svg\" xmlns:xlink=\"http://www.w3.org/1999/xlink\" width=\"672\" height=\"480\" viewBox=\"0 0 2688 1920\">\n",
       "<defs>\n",
       "  <clipPath id=\"clip250\">\n",
       "    <rect x=\"0\" y=\"0\" width=\"2688\" height=\"1920\"/>\n",
       "  </clipPath>\n",
       "</defs>\n",
       "<path clip-path=\"url(#clip250)\" d=\"M0 1920 L2688 1920 L2688 0 L0 0  Z\" fill=\"#ffffff\" fill-rule=\"evenodd\" fill-opacity=\"1\"/>\n",
       "<defs>\n",
       "  <clipPath id=\"clip251\">\n",
       "    <rect x=\"537\" y=\"0\" width=\"1883\" height=\"1883\"/>\n",
       "  </clipPath>\n",
       "</defs>\n",
       "<path clip-path=\"url(#clip250)\" d=\"M189.154 1800.78 L2640.76 1800.78 L2640.76 47.2441 L189.154 47.2441  Z\" fill=\"#ffffff\" fill-rule=\"evenodd\" fill-opacity=\"1\"/>\n",
       "<defs>\n",
       "  <clipPath id=\"clip252\">\n",
       "    <rect x=\"189\" y=\"47\" width=\"2453\" height=\"1755\"/>\n",
       "  </clipPath>\n",
       "</defs>\n",
       "<polyline clip-path=\"url(#clip252)\" style=\"stroke:#000000; stroke-linecap:round; stroke-linejoin:round; stroke-width:2; stroke-opacity:0.1; fill:none\" points=\"258.539,1800.78 258.539,47.2441 \"/>\n",
       "<polyline clip-path=\"url(#clip252)\" style=\"stroke:#000000; stroke-linecap:round; stroke-linejoin:round; stroke-width:2; stroke-opacity:0.1; fill:none\" points=\"836.747,1800.78 836.747,47.2441 \"/>\n",
       "<polyline clip-path=\"url(#clip252)\" style=\"stroke:#000000; stroke-linecap:round; stroke-linejoin:round; stroke-width:2; stroke-opacity:0.1; fill:none\" points=\"1414.95,1800.78 1414.95,47.2441 \"/>\n",
       "<polyline clip-path=\"url(#clip252)\" style=\"stroke:#000000; stroke-linecap:round; stroke-linejoin:round; stroke-width:2; stroke-opacity:0.1; fill:none\" points=\"1993.16,1800.78 1993.16,47.2441 \"/>\n",
       "<polyline clip-path=\"url(#clip252)\" style=\"stroke:#000000; stroke-linecap:round; stroke-linejoin:round; stroke-width:2; stroke-opacity:0.1; fill:none\" points=\"2571.37,1800.78 2571.37,47.2441 \"/>\n",
       "<polyline clip-path=\"url(#clip250)\" style=\"stroke:#000000; stroke-linecap:round; stroke-linejoin:round; stroke-width:4; stroke-opacity:1; fill:none\" points=\"189.154,1800.78 2640.76,1800.78 \"/>\n",
       "<polyline clip-path=\"url(#clip250)\" style=\"stroke:#000000; stroke-linecap:round; stroke-linejoin:round; stroke-width:4; stroke-opacity:1; fill:none\" points=\"258.539,1800.78 258.539,1781.88 \"/>\n",
       "<polyline clip-path=\"url(#clip250)\" style=\"stroke:#000000; stroke-linecap:round; stroke-linejoin:round; stroke-width:4; stroke-opacity:1; fill:none\" points=\"836.747,1800.78 836.747,1781.88 \"/>\n",
       "<polyline clip-path=\"url(#clip250)\" style=\"stroke:#000000; stroke-linecap:round; stroke-linejoin:round; stroke-width:4; stroke-opacity:1; fill:none\" points=\"1414.95,1800.78 1414.95,1781.88 \"/>\n",
       "<polyline clip-path=\"url(#clip250)\" style=\"stroke:#000000; stroke-linecap:round; stroke-linejoin:round; stroke-width:4; stroke-opacity:1; fill:none\" points=\"1993.16,1800.78 1993.16,1781.88 \"/>\n",
       "<polyline clip-path=\"url(#clip250)\" style=\"stroke:#000000; stroke-linecap:round; stroke-linejoin:round; stroke-width:4; stroke-opacity:1; fill:none\" points=\"2571.37,1800.78 2571.37,1781.88 \"/>\n",
       "<path clip-path=\"url(#clip250)\" d=\"M220.842 1834 Q217.231 1834 215.403 1837.57 Q213.597 1841.11 213.597 1848.24 Q213.597 1855.34 215.403 1858.91 Q217.231 1862.45 220.842 1862.45 Q224.477 1862.45 226.282 1858.91 Q228.111 1855.34 228.111 1848.24 Q228.111 1841.11 226.282 1837.57 Q224.477 1834 220.842 1834 M220.842 1830.3 Q226.653 1830.3 229.708 1834.9 Q232.787 1839.49 232.787 1848.24 Q232.787 1856.96 229.708 1861.57 Q226.653 1866.15 220.842 1866.15 Q215.032 1866.15 211.954 1861.57 Q208.898 1856.96 208.898 1848.24 Q208.898 1839.49 211.954 1834.9 Q215.032 1830.3 220.842 1830.3 Z\" fill=\"#000000\" fill-rule=\"nonzero\" fill-opacity=\"1\" /><path clip-path=\"url(#clip250)\" d=\"M241.004 1859.6 L245.889 1859.6 L245.889 1865.48 L241.004 1865.48 L241.004 1859.6 Z\" fill=\"#000000\" fill-rule=\"nonzero\" fill-opacity=\"1\" /><path clip-path=\"url(#clip250)\" d=\"M266.074 1834 Q262.463 1834 260.634 1837.57 Q258.828 1841.11 258.828 1848.24 Q258.828 1855.34 260.634 1858.91 Q262.463 1862.45 266.074 1862.45 Q269.708 1862.45 271.513 1858.91 Q273.342 1855.34 273.342 1848.24 Q273.342 1841.11 271.513 1837.57 Q269.708 1834 266.074 1834 M266.074 1830.3 Q271.884 1830.3 274.939 1834.9 Q278.018 1839.49 278.018 1848.24 Q278.018 1856.96 274.939 1861.57 Q271.884 1866.15 266.074 1866.15 Q260.263 1866.15 257.185 1861.57 Q254.129 1856.96 254.129 1848.24 Q254.129 1839.49 257.185 1834.9 Q260.263 1830.3 266.074 1830.3 Z\" fill=\"#000000\" fill-rule=\"nonzero\" fill-opacity=\"1\" /><path clip-path=\"url(#clip250)\" d=\"M296.236 1834 Q292.624 1834 290.796 1837.57 Q288.99 1841.11 288.99 1848.24 Q288.99 1855.34 290.796 1858.91 Q292.624 1862.45 296.236 1862.45 Q299.87 1862.45 301.675 1858.91 Q303.504 1855.34 303.504 1848.24 Q303.504 1841.11 301.675 1837.57 Q299.87 1834 296.236 1834 M296.236 1830.3 Q302.046 1830.3 305.101 1834.9 Q308.18 1839.49 308.18 1848.24 Q308.18 1856.96 305.101 1861.57 Q302.046 1866.15 296.236 1866.15 Q290.425 1866.15 287.347 1861.57 Q284.291 1856.96 284.291 1848.24 Q284.291 1839.49 287.347 1834.9 Q290.425 1830.3 296.236 1830.3 Z\" fill=\"#000000\" fill-rule=\"nonzero\" fill-opacity=\"1\" /><path clip-path=\"url(#clip250)\" d=\"M799.548 1834 Q795.937 1834 794.108 1837.57 Q792.303 1841.11 792.303 1848.24 Q792.303 1855.34 794.108 1858.91 Q795.937 1862.45 799.548 1862.45 Q803.182 1862.45 804.988 1858.91 Q806.817 1855.34 806.817 1848.24 Q806.817 1841.11 804.988 1837.57 Q803.182 1834 799.548 1834 M799.548 1830.3 Q805.358 1830.3 808.414 1834.9 Q811.492 1839.49 811.492 1848.24 Q811.492 1856.96 808.414 1861.57 Q805.358 1866.15 799.548 1866.15 Q793.738 1866.15 790.659 1861.57 Q787.604 1856.96 787.604 1848.24 Q787.604 1839.49 790.659 1834.9 Q793.738 1830.3 799.548 1830.3 Z\" fill=\"#000000\" fill-rule=\"nonzero\" fill-opacity=\"1\" /><path clip-path=\"url(#clip250)\" d=\"M819.71 1859.6 L824.594 1859.6 L824.594 1865.48 L819.71 1865.48 L819.71 1859.6 Z\" fill=\"#000000\" fill-rule=\"nonzero\" fill-opacity=\"1\" /><path clip-path=\"url(#clip250)\" d=\"M838.807 1861.55 L855.126 1861.55 L855.126 1865.48 L833.182 1865.48 L833.182 1861.55 Q835.844 1858.79 840.427 1854.16 Q845.034 1849.51 846.214 1848.17 Q848.46 1845.65 849.339 1843.91 Q850.242 1842.15 850.242 1840.46 Q850.242 1837.71 848.298 1835.97 Q846.377 1834.23 843.275 1834.23 Q841.076 1834.23 838.622 1835 Q836.191 1835.76 833.414 1837.31 L833.414 1832.59 Q836.238 1831.46 838.691 1830.88 Q841.145 1830.3 843.182 1830.3 Q848.552 1830.3 851.747 1832.98 Q854.941 1835.67 854.941 1840.16 Q854.941 1842.29 854.131 1844.21 Q853.344 1846.11 851.238 1848.7 Q850.659 1849.37 847.557 1852.59 Q844.455 1855.78 838.807 1861.55 Z\" fill=\"#000000\" fill-rule=\"nonzero\" fill-opacity=\"1\" /><path clip-path=\"url(#clip250)\" d=\"M864.988 1830.92 L883.344 1830.92 L883.344 1834.86 L869.27 1834.86 L869.27 1843.33 Q870.288 1842.98 871.307 1842.82 Q872.325 1842.64 873.344 1842.64 Q879.131 1842.64 882.511 1845.81 Q885.89 1848.98 885.89 1854.4 Q885.89 1859.97 882.418 1863.08 Q878.946 1866.15 872.626 1866.15 Q870.45 1866.15 868.182 1865.78 Q865.937 1865.41 863.529 1864.67 L863.529 1859.97 Q865.613 1861.11 867.835 1861.66 Q870.057 1862.22 872.534 1862.22 Q876.538 1862.22 878.876 1860.11 Q881.214 1858.01 881.214 1854.4 Q881.214 1850.78 878.876 1848.68 Q876.538 1846.57 872.534 1846.57 Q870.659 1846.57 868.784 1846.99 Q866.932 1847.4 864.988 1848.28 L864.988 1830.92 Z\" fill=\"#000000\" fill-rule=\"nonzero\" fill-opacity=\"1\" /><path clip-path=\"url(#clip250)\" d=\"M1377.26 1834 Q1373.65 1834 1371.82 1837.57 Q1370.01 1841.11 1370.01 1848.24 Q1370.01 1855.34 1371.82 1858.91 Q1373.65 1862.45 1377.26 1862.45 Q1380.89 1862.45 1382.7 1858.91 Q1384.53 1855.34 1384.53 1848.24 Q1384.53 1841.11 1382.7 1837.57 Q1380.89 1834 1377.26 1834 M1377.26 1830.3 Q1383.07 1830.3 1386.12 1834.9 Q1389.2 1839.49 1389.2 1848.24 Q1389.2 1856.96 1386.12 1861.57 Q1383.07 1866.15 1377.26 1866.15 Q1371.45 1866.15 1368.37 1861.57 Q1365.31 1856.96 1365.31 1848.24 Q1365.31 1839.49 1368.37 1834.9 Q1371.45 1830.3 1377.26 1830.3 Z\" fill=\"#000000\" fill-rule=\"nonzero\" fill-opacity=\"1\" /><path clip-path=\"url(#clip250)\" d=\"M1397.42 1859.6 L1402.3 1859.6 L1402.3 1865.48 L1397.42 1865.48 L1397.42 1859.6 Z\" fill=\"#000000\" fill-rule=\"nonzero\" fill-opacity=\"1\" /><path clip-path=\"url(#clip250)\" d=\"M1412.54 1830.92 L1430.89 1830.92 L1430.89 1834.86 L1416.82 1834.86 L1416.82 1843.33 Q1417.84 1842.98 1418.86 1842.82 Q1419.87 1842.64 1420.89 1842.64 Q1426.68 1842.64 1430.06 1845.81 Q1433.44 1848.98 1433.44 1854.4 Q1433.44 1859.97 1429.97 1863.08 Q1426.49 1866.15 1420.17 1866.15 Q1418 1866.15 1415.73 1865.78 Q1413.49 1865.41 1411.08 1864.67 L1411.08 1859.97 Q1413.16 1861.11 1415.38 1861.66 Q1417.61 1862.22 1420.08 1862.22 Q1424.09 1862.22 1426.42 1860.11 Q1428.76 1858.01 1428.76 1854.4 Q1428.76 1850.78 1426.42 1848.68 Q1424.09 1846.57 1420.08 1846.57 Q1418.21 1846.57 1416.33 1846.99 Q1414.48 1847.4 1412.54 1848.28 L1412.54 1830.92 Z\" fill=\"#000000\" fill-rule=\"nonzero\" fill-opacity=\"1\" /><path clip-path=\"url(#clip250)\" d=\"M1452.65 1834 Q1449.04 1834 1447.21 1837.57 Q1445.41 1841.11 1445.41 1848.24 Q1445.41 1855.34 1447.21 1858.91 Q1449.04 1862.45 1452.65 1862.45 Q1456.29 1862.45 1458.09 1858.91 Q1459.92 1855.34 1459.92 1848.24 Q1459.92 1841.11 1458.09 1837.57 Q1456.29 1834 1452.65 1834 M1452.65 1830.3 Q1458.46 1830.3 1461.52 1834.9 Q1464.6 1839.49 1464.6 1848.24 Q1464.6 1856.96 1461.52 1861.57 Q1458.46 1866.15 1452.65 1866.15 Q1446.84 1866.15 1443.76 1861.57 Q1440.71 1856.96 1440.71 1848.24 Q1440.71 1839.49 1443.76 1834.9 Q1446.84 1830.3 1452.65 1830.3 Z\" fill=\"#000000\" fill-rule=\"nonzero\" fill-opacity=\"1\" /><path clip-path=\"url(#clip250)\" d=\"M1955.96 1834 Q1952.35 1834 1950.52 1837.57 Q1948.72 1841.11 1948.72 1848.24 Q1948.72 1855.34 1950.52 1858.91 Q1952.35 1862.45 1955.96 1862.45 Q1959.6 1862.45 1961.4 1858.91 Q1963.23 1855.34 1963.23 1848.24 Q1963.23 1841.11 1961.4 1837.57 Q1959.6 1834 1955.96 1834 M1955.96 1830.3 Q1961.77 1830.3 1964.83 1834.9 Q1967.91 1839.49 1967.91 1848.24 Q1967.91 1856.96 1964.83 1861.57 Q1961.77 1866.15 1955.96 1866.15 Q1950.15 1866.15 1947.08 1861.57 Q1944.02 1856.96 1944.02 1848.24 Q1944.02 1839.49 1947.08 1834.9 Q1950.15 1830.3 1955.96 1830.3 Z\" fill=\"#000000\" fill-rule=\"nonzero\" fill-opacity=\"1\" /><path clip-path=\"url(#clip250)\" d=\"M1976.13 1859.6 L1981.01 1859.6 L1981.01 1865.48 L1976.13 1865.48 L1976.13 1859.6 Z\" fill=\"#000000\" fill-rule=\"nonzero\" fill-opacity=\"1\" /><path clip-path=\"url(#clip250)\" d=\"M1990.01 1830.92 L2012.24 1830.92 L2012.24 1832.91 L1999.69 1865.48 L1994.81 1865.48 L2006.61 1834.86 L1990.01 1834.86 L1990.01 1830.92 Z\" fill=\"#000000\" fill-rule=\"nonzero\" fill-opacity=\"1\" /><path clip-path=\"url(#clip250)\" d=\"M2021.4 1830.92 L2039.76 1830.92 L2039.76 1834.86 L2025.69 1834.86 L2025.69 1843.33 Q2026.7 1842.98 2027.72 1842.82 Q2028.74 1842.64 2029.76 1842.64 Q2035.55 1842.64 2038.93 1845.81 Q2042.31 1848.98 2042.31 1854.4 Q2042.31 1859.97 2038.83 1863.08 Q2035.36 1866.15 2029.04 1866.15 Q2026.87 1866.15 2024.6 1865.78 Q2022.35 1865.41 2019.95 1864.67 L2019.95 1859.97 Q2022.03 1861.11 2024.25 1861.66 Q2026.47 1862.22 2028.95 1862.22 Q2032.95 1862.22 2035.29 1860.11 Q2037.63 1858.01 2037.63 1854.4 Q2037.63 1850.78 2035.29 1848.68 Q2032.95 1846.57 2028.95 1846.57 Q2027.07 1846.57 2025.2 1846.99 Q2023.35 1847.4 2021.4 1848.28 L2021.4 1830.92 Z\" fill=\"#000000\" fill-rule=\"nonzero\" fill-opacity=\"1\" /><path clip-path=\"url(#clip250)\" d=\"M2523.44 1861.55 L2531.08 1861.55 L2531.08 1835.18 L2522.77 1836.85 L2522.77 1832.59 L2531.04 1830.92 L2535.71 1830.92 L2535.71 1861.55 L2543.35 1861.55 L2543.35 1865.48 L2523.44 1865.48 L2523.44 1861.55 Z\" fill=\"#000000\" fill-rule=\"nonzero\" fill-opacity=\"1\" /><path clip-path=\"url(#clip250)\" d=\"M2552.79 1859.6 L2557.68 1859.6 L2557.68 1865.48 L2552.79 1865.48 L2552.79 1859.6 Z\" fill=\"#000000\" fill-rule=\"nonzero\" fill-opacity=\"1\" /><path clip-path=\"url(#clip250)\" d=\"M2577.86 1834 Q2574.25 1834 2572.42 1837.57 Q2570.62 1841.11 2570.62 1848.24 Q2570.62 1855.34 2572.42 1858.91 Q2574.25 1862.45 2577.86 1862.45 Q2581.5 1862.45 2583.3 1858.91 Q2585.13 1855.34 2585.13 1848.24 Q2585.13 1841.11 2583.3 1837.57 Q2581.5 1834 2577.86 1834 M2577.86 1830.3 Q2583.67 1830.3 2586.73 1834.9 Q2589.81 1839.49 2589.81 1848.24 Q2589.81 1856.96 2586.73 1861.57 Q2583.67 1866.15 2577.86 1866.15 Q2572.05 1866.15 2568.98 1861.57 Q2565.92 1856.96 2565.92 1848.24 Q2565.92 1839.49 2568.98 1834.9 Q2572.05 1830.3 2577.86 1830.3 Z\" fill=\"#000000\" fill-rule=\"nonzero\" fill-opacity=\"1\" /><path clip-path=\"url(#clip250)\" d=\"M2608.03 1834 Q2604.41 1834 2602.59 1837.57 Q2600.78 1841.11 2600.78 1848.24 Q2600.78 1855.34 2602.59 1858.91 Q2604.41 1862.45 2608.03 1862.45 Q2611.66 1862.45 2613.47 1858.91 Q2615.29 1855.34 2615.29 1848.24 Q2615.29 1841.11 2613.47 1837.57 Q2611.66 1834 2608.03 1834 M2608.03 1830.3 Q2613.84 1830.3 2616.89 1834.9 Q2619.97 1839.49 2619.97 1848.24 Q2619.97 1856.96 2616.89 1861.57 Q2613.84 1866.15 2608.03 1866.15 Q2602.22 1866.15 2599.14 1861.57 Q2596.08 1856.96 2596.08 1848.24 Q2596.08 1839.49 2599.14 1834.9 Q2602.22 1830.3 2608.03 1830.3 Z\" fill=\"#000000\" fill-rule=\"nonzero\" fill-opacity=\"1\" /><polyline clip-path=\"url(#clip252)\" style=\"stroke:#000000; stroke-linecap:round; stroke-linejoin:round; stroke-width:2; stroke-opacity:0.1; fill:none\" points=\"189.154,1751.15 2640.76,1751.15 \"/>\n",
       "<polyline clip-path=\"url(#clip252)\" style=\"stroke:#000000; stroke-linecap:round; stroke-linejoin:round; stroke-width:2; stroke-opacity:0.1; fill:none\" points=\"189.154,1337.58 2640.76,1337.58 \"/>\n",
       "<polyline clip-path=\"url(#clip252)\" style=\"stroke:#000000; stroke-linecap:round; stroke-linejoin:round; stroke-width:2; stroke-opacity:0.1; fill:none\" points=\"189.154,924.012 2640.76,924.012 \"/>\n",
       "<polyline clip-path=\"url(#clip252)\" style=\"stroke:#000000; stroke-linecap:round; stroke-linejoin:round; stroke-width:2; stroke-opacity:0.1; fill:none\" points=\"189.154,510.442 2640.76,510.442 \"/>\n",
       "<polyline clip-path=\"url(#clip252)\" style=\"stroke:#000000; stroke-linecap:round; stroke-linejoin:round; stroke-width:2; stroke-opacity:0.1; fill:none\" points=\"189.154,96.8724 2640.76,96.8724 \"/>\n",
       "<polyline clip-path=\"url(#clip250)\" style=\"stroke:#000000; stroke-linecap:round; stroke-linejoin:round; stroke-width:4; stroke-opacity:1; fill:none\" points=\"189.154,1800.78 189.154,47.2441 \"/>\n",
       "<polyline clip-path=\"url(#clip250)\" style=\"stroke:#000000; stroke-linecap:round; stroke-linejoin:round; stroke-width:4; stroke-opacity:1; fill:none\" points=\"189.154,1751.15 208.052,1751.15 \"/>\n",
       "<polyline clip-path=\"url(#clip250)\" style=\"stroke:#000000; stroke-linecap:round; stroke-linejoin:round; stroke-width:4; stroke-opacity:1; fill:none\" points=\"189.154,1337.58 208.052,1337.58 \"/>\n",
       "<polyline clip-path=\"url(#clip250)\" style=\"stroke:#000000; stroke-linecap:round; stroke-linejoin:round; stroke-width:4; stroke-opacity:1; fill:none\" points=\"189.154,924.012 208.052,924.012 \"/>\n",
       "<polyline clip-path=\"url(#clip250)\" style=\"stroke:#000000; stroke-linecap:round; stroke-linejoin:round; stroke-width:4; stroke-opacity:1; fill:none\" points=\"189.154,510.442 208.052,510.442 \"/>\n",
       "<polyline clip-path=\"url(#clip250)\" style=\"stroke:#000000; stroke-linecap:round; stroke-linejoin:round; stroke-width:4; stroke-opacity:1; fill:none\" points=\"189.154,96.8724 208.052,96.8724 \"/>\n",
       "<path clip-path=\"url(#clip250)\" d=\"M61.4965 1736.95 Q57.8854 1736.95 56.0567 1740.51 Q54.2512 1744.06 54.2512 1751.19 Q54.2512 1758.29 56.0567 1761.86 Q57.8854 1765.4 61.4965 1765.4 Q65.1307 1765.4 66.9363 1761.86 Q68.765 1758.29 68.765 1751.19 Q68.765 1744.06 66.9363 1740.51 Q65.1307 1736.95 61.4965 1736.95 M61.4965 1733.25 Q67.3067 1733.25 70.3622 1737.85 Q73.4409 1742.44 73.4409 1751.19 Q73.4409 1759.91 70.3622 1764.52 Q67.3067 1769.1 61.4965 1769.1 Q55.6864 1769.1 52.6077 1764.52 Q49.5521 1759.91 49.5521 1751.19 Q49.5521 1742.44 52.6077 1737.85 Q55.6864 1733.25 61.4965 1733.25 Z\" fill=\"#000000\" fill-rule=\"nonzero\" fill-opacity=\"1\" /><path clip-path=\"url(#clip250)\" d=\"M81.6584 1762.55 L86.5427 1762.55 L86.5427 1768.43 L81.6584 1768.43 L81.6584 1762.55 Z\" fill=\"#000000\" fill-rule=\"nonzero\" fill-opacity=\"1\" /><path clip-path=\"url(#clip250)\" d=\"M106.728 1736.95 Q103.117 1736.95 101.288 1740.51 Q99.4824 1744.06 99.4824 1751.19 Q99.4824 1758.29 101.288 1761.86 Q103.117 1765.4 106.728 1765.4 Q110.362 1765.4 112.168 1761.86 Q113.996 1758.29 113.996 1751.19 Q113.996 1744.06 112.168 1740.51 Q110.362 1736.95 106.728 1736.95 M106.728 1733.25 Q112.538 1733.25 115.593 1737.85 Q118.672 1742.44 118.672 1751.19 Q118.672 1759.91 115.593 1764.52 Q112.538 1769.1 106.728 1769.1 Q100.918 1769.1 97.8389 1764.52 Q94.7834 1759.91 94.7834 1751.19 Q94.7834 1742.44 97.8389 1737.85 Q100.918 1733.25 106.728 1733.25 Z\" fill=\"#000000\" fill-rule=\"nonzero\" fill-opacity=\"1\" /><path clip-path=\"url(#clip250)\" d=\"M136.89 1736.95 Q133.279 1736.95 131.45 1740.51 Q129.644 1744.06 129.644 1751.19 Q129.644 1758.29 131.45 1761.86 Q133.279 1765.4 136.89 1765.4 Q140.524 1765.4 142.329 1761.86 Q144.158 1758.29 144.158 1751.19 Q144.158 1744.06 142.329 1740.51 Q140.524 1736.95 136.89 1736.95 M136.89 1733.25 Q142.7 1733.25 145.755 1737.85 Q148.834 1742.44 148.834 1751.19 Q148.834 1759.91 145.755 1764.52 Q142.7 1769.1 136.89 1769.1 Q131.079 1769.1 128.001 1764.52 Q124.945 1759.91 124.945 1751.19 Q124.945 1742.44 128.001 1737.85 Q131.079 1733.25 136.89 1733.25 Z\" fill=\"#000000\" fill-rule=\"nonzero\" fill-opacity=\"1\" /><path clip-path=\"url(#clip250)\" d=\"M62.4919 1323.38 Q58.8808 1323.38 57.0521 1326.94 Q55.2465 1330.49 55.2465 1337.62 Q55.2465 1344.72 57.0521 1348.29 Q58.8808 1351.83 62.4919 1351.83 Q66.1261 1351.83 67.9317 1348.29 Q69.7604 1344.72 69.7604 1337.62 Q69.7604 1330.49 67.9317 1326.94 Q66.1261 1323.38 62.4919 1323.38 M62.4919 1319.68 Q68.302 1319.68 71.3576 1324.28 Q74.4363 1328.87 74.4363 1337.62 Q74.4363 1346.34 71.3576 1350.95 Q68.302 1355.53 62.4919 1355.53 Q56.6817 1355.53 53.603 1350.95 Q50.5475 1346.34 50.5475 1337.62 Q50.5475 1328.87 53.603 1324.28 Q56.6817 1319.68 62.4919 1319.68 Z\" fill=\"#000000\" fill-rule=\"nonzero\" fill-opacity=\"1\" /><path clip-path=\"url(#clip250)\" d=\"M82.6538 1348.98 L87.538 1348.98 L87.538 1354.86 L82.6538 1354.86 L82.6538 1348.98 Z\" fill=\"#000000\" fill-rule=\"nonzero\" fill-opacity=\"1\" /><path clip-path=\"url(#clip250)\" d=\"M101.751 1350.93 L118.07 1350.93 L118.07 1354.86 L96.126 1354.86 L96.126 1350.93 Q98.788 1348.17 103.371 1343.54 Q107.978 1338.89 109.158 1337.55 Q111.404 1335.02 112.283 1333.29 Q113.186 1331.53 113.186 1329.84 Q113.186 1327.08 111.242 1325.35 Q109.32 1323.61 106.218 1323.61 Q104.019 1323.61 101.566 1324.38 Q99.1352 1325.14 96.3574 1326.69 L96.3574 1321.97 Q99.1815 1320.83 101.635 1320.26 Q104.089 1319.68 106.126 1319.68 Q111.496 1319.68 114.691 1322.36 Q117.885 1325.05 117.885 1329.54 Q117.885 1331.67 117.075 1333.59 Q116.288 1335.49 114.181 1338.08 Q113.603 1338.75 110.501 1341.97 Q107.399 1345.16 101.751 1350.93 Z\" fill=\"#000000\" fill-rule=\"nonzero\" fill-opacity=\"1\" /><path clip-path=\"url(#clip250)\" d=\"M127.931 1320.3 L146.288 1320.3 L146.288 1324.24 L132.214 1324.24 L132.214 1332.71 Q133.232 1332.36 134.251 1332.2 Q135.269 1332.01 136.288 1332.01 Q142.075 1332.01 145.454 1335.19 Q148.834 1338.36 148.834 1343.77 Q148.834 1349.35 145.362 1352.45 Q141.89 1355.53 135.57 1355.53 Q133.394 1355.53 131.126 1355.16 Q128.88 1354.79 126.473 1354.05 L126.473 1349.35 Q128.556 1350.49 130.779 1351.04 Q133.001 1351.6 135.478 1351.6 Q139.482 1351.6 141.82 1349.49 Q144.158 1347.38 144.158 1343.77 Q144.158 1340.16 141.82 1338.06 Q139.482 1335.95 135.478 1335.95 Q133.603 1335.95 131.728 1336.37 Q129.876 1336.78 127.931 1337.66 L127.931 1320.3 Z\" fill=\"#000000\" fill-rule=\"nonzero\" fill-opacity=\"1\" /><path clip-path=\"url(#clip250)\" d=\"M61.4965 909.81 Q57.8854 909.81 56.0567 913.375 Q54.2512 916.917 54.2512 924.046 Q54.2512 931.153 56.0567 934.718 Q57.8854 938.259 61.4965 938.259 Q65.1307 938.259 66.9363 934.718 Q68.765 931.153 68.765 924.046 Q68.765 916.917 66.9363 913.375 Q65.1307 909.81 61.4965 909.81 M61.4965 906.107 Q67.3067 906.107 70.3622 910.713 Q73.4409 915.296 73.4409 924.046 Q73.4409 932.773 70.3622 937.38 Q67.3067 941.963 61.4965 941.963 Q55.6864 941.963 52.6077 937.38 Q49.5521 932.773 49.5521 924.046 Q49.5521 915.296 52.6077 910.713 Q55.6864 906.107 61.4965 906.107 Z\" fill=\"#000000\" fill-rule=\"nonzero\" fill-opacity=\"1\" /><path clip-path=\"url(#clip250)\" d=\"M81.6584 935.412 L86.5427 935.412 L86.5427 941.292 L81.6584 941.292 L81.6584 935.412 Z\" fill=\"#000000\" fill-rule=\"nonzero\" fill-opacity=\"1\" /><path clip-path=\"url(#clip250)\" d=\"M96.7741 906.732 L115.13 906.732 L115.13 910.667 L101.056 910.667 L101.056 919.139 Q102.075 918.792 103.094 918.63 Q104.112 918.445 105.131 918.445 Q110.918 918.445 114.297 921.616 Q117.677 924.787 117.677 930.204 Q117.677 935.782 114.205 938.884 Q110.732 941.963 104.413 941.963 Q102.237 941.963 99.9685 941.593 Q97.7232 941.222 95.3158 940.482 L95.3158 935.782 Q97.3991 936.917 99.6213 937.472 Q101.844 938.028 104.32 938.028 Q108.325 938.028 110.663 935.921 Q113.001 933.815 113.001 930.204 Q113.001 926.593 110.663 924.486 Q108.325 922.38 104.32 922.38 Q102.445 922.38 100.57 922.796 Q98.7185 923.213 96.7741 924.093 L96.7741 906.732 Z\" fill=\"#000000\" fill-rule=\"nonzero\" fill-opacity=\"1\" /><path clip-path=\"url(#clip250)\" d=\"M136.89 909.81 Q133.279 909.81 131.45 913.375 Q129.644 916.917 129.644 924.046 Q129.644 931.153 131.45 934.718 Q133.279 938.259 136.89 938.259 Q140.524 938.259 142.329 934.718 Q144.158 931.153 144.158 924.046 Q144.158 916.917 142.329 913.375 Q140.524 909.81 136.89 909.81 M136.89 906.107 Q142.7 906.107 145.755 910.713 Q148.834 915.296 148.834 924.046 Q148.834 932.773 145.755 937.38 Q142.7 941.963 136.89 941.963 Q131.079 941.963 128.001 937.38 Q124.945 932.773 124.945 924.046 Q124.945 915.296 128.001 910.713 Q131.079 906.107 136.89 906.107 Z\" fill=\"#000000\" fill-rule=\"nonzero\" fill-opacity=\"1\" /><path clip-path=\"url(#clip250)\" d=\"M62.4919 496.241 Q58.8808 496.241 57.0521 499.806 Q55.2465 503.347 55.2465 510.477 Q55.2465 517.583 57.0521 521.148 Q58.8808 524.69 62.4919 524.69 Q66.1261 524.69 67.9317 521.148 Q69.7604 517.583 69.7604 510.477 Q69.7604 503.347 67.9317 499.806 Q66.1261 496.241 62.4919 496.241 M62.4919 492.537 Q68.302 492.537 71.3576 497.144 Q74.4363 501.727 74.4363 510.477 Q74.4363 519.204 71.3576 523.81 Q68.302 528.393 62.4919 528.393 Q56.6817 528.393 53.603 523.81 Q50.5475 519.204 50.5475 510.477 Q50.5475 501.727 53.603 497.144 Q56.6817 492.537 62.4919 492.537 Z\" fill=\"#000000\" fill-rule=\"nonzero\" fill-opacity=\"1\" /><path clip-path=\"url(#clip250)\" d=\"M82.6538 521.842 L87.538 521.842 L87.538 527.722 L82.6538 527.722 L82.6538 521.842 Z\" fill=\"#000000\" fill-rule=\"nonzero\" fill-opacity=\"1\" /><path clip-path=\"url(#clip250)\" d=\"M96.5426 493.162 L118.765 493.162 L118.765 495.153 L106.218 527.722 L101.334 527.722 L113.14 497.097 L96.5426 497.097 L96.5426 493.162 Z\" fill=\"#000000\" fill-rule=\"nonzero\" fill-opacity=\"1\" /><path clip-path=\"url(#clip250)\" d=\"M127.931 493.162 L146.288 493.162 L146.288 497.097 L132.214 497.097 L132.214 505.569 Q133.232 505.222 134.251 505.06 Q135.269 504.875 136.288 504.875 Q142.075 504.875 145.454 508.046 Q148.834 511.218 148.834 516.634 Q148.834 522.213 145.362 525.315 Q141.89 528.393 135.57 528.393 Q133.394 528.393 131.126 528.023 Q128.88 527.653 126.473 526.912 L126.473 522.213 Q128.556 523.347 130.779 523.903 Q133.001 524.458 135.478 524.458 Q139.482 524.458 141.82 522.352 Q144.158 520.245 144.158 516.634 Q144.158 513.023 141.82 510.917 Q139.482 508.81 135.478 508.81 Q133.603 508.81 131.728 509.227 Q129.876 509.643 127.931 510.523 L127.931 493.162 Z\" fill=\"#000000\" fill-rule=\"nonzero\" fill-opacity=\"1\" /><path clip-path=\"url(#clip250)\" d=\"M52.3067 110.217 L59.9456 110.217 L59.9456 83.8517 L51.6354 85.5183 L51.6354 81.2591 L59.8993 79.5924 L64.5752 79.5924 L64.5752 110.217 L72.214 110.217 L72.214 114.152 L52.3067 114.152 L52.3067 110.217 Z\" fill=\"#000000\" fill-rule=\"nonzero\" fill-opacity=\"1\" /><path clip-path=\"url(#clip250)\" d=\"M81.6584 108.273 L86.5427 108.273 L86.5427 114.152 L81.6584 114.152 L81.6584 108.273 Z\" fill=\"#000000\" fill-rule=\"nonzero\" fill-opacity=\"1\" /><path clip-path=\"url(#clip250)\" d=\"M106.728 82.6711 Q103.117 82.6711 101.288 86.2359 Q99.4824 89.7776 99.4824 96.9072 Q99.4824 104.014 101.288 107.578 Q103.117 111.12 106.728 111.12 Q110.362 111.12 112.168 107.578 Q113.996 104.014 113.996 96.9072 Q113.996 89.7776 112.168 86.2359 Q110.362 82.6711 106.728 82.6711 M106.728 78.9675 Q112.538 78.9675 115.593 83.5739 Q118.672 88.1572 118.672 96.9072 Q118.672 105.634 115.593 110.24 Q112.538 114.824 106.728 114.824 Q100.918 114.824 97.8389 110.24 Q94.7834 105.634 94.7834 96.9072 Q94.7834 88.1572 97.8389 83.5739 Q100.918 78.9675 106.728 78.9675 Z\" fill=\"#000000\" fill-rule=\"nonzero\" fill-opacity=\"1\" /><path clip-path=\"url(#clip250)\" d=\"M136.89 82.6711 Q133.279 82.6711 131.45 86.2359 Q129.644 89.7776 129.644 96.9072 Q129.644 104.014 131.45 107.578 Q133.279 111.12 136.89 111.12 Q140.524 111.12 142.329 107.578 Q144.158 104.014 144.158 96.9072 Q144.158 89.7776 142.329 86.2359 Q140.524 82.6711 136.89 82.6711 M136.89 78.9675 Q142.7 78.9675 145.755 83.5739 Q148.834 88.1572 148.834 96.9072 Q148.834 105.634 145.755 110.24 Q142.7 114.824 136.89 114.824 Q131.079 114.824 128.001 110.24 Q124.945 105.634 124.945 96.9072 Q124.945 88.1572 128.001 83.5739 Q131.079 78.9675 136.89 78.9675 Z\" fill=\"#000000\" fill-rule=\"nonzero\" fill-opacity=\"1\" /><polyline clip-path=\"url(#clip252)\" style=\"stroke:#009af9; stroke-linecap:round; stroke-linejoin:round; stroke-width:4; stroke-opacity:1; fill:none\" points=\"258.539,1751.15 489.822,1734.61 721.105,1684.98 952.389,1602.27 1183.67,1486.47 1414.95,1337.58 1646.24,1155.61 1877.52,940.554 2108.8,692.413 2340.09,411.185 2571.37,96.8724 \"/>\n",
       "<path clip-path=\"url(#clip250)\" d=\"M270.874 209.375 L568.465 209.375 L568.465 105.695 L270.874 105.695  Z\" fill=\"#ffffff\" fill-rule=\"evenodd\" fill-opacity=\"1\"/>\n",
       "<polyline clip-path=\"url(#clip250)\" style=\"stroke:#000000; stroke-linecap:round; stroke-linejoin:round; stroke-width:4; stroke-opacity:1; fill:none\" points=\"270.874,209.375 568.465,209.375 568.465,105.695 270.874,105.695 270.874,209.375 \"/>\n",
       "<polyline clip-path=\"url(#clip250)\" style=\"stroke:#009af9; stroke-linecap:round; stroke-linejoin:round; stroke-width:4; stroke-opacity:1; fill:none\" points=\"298.114,157.535 461.554,157.535 \"/>\n",
       "<path clip-path=\"url(#clip250)\" d=\"M502.637 177.223 Q500.831 181.852 499.118 183.264 Q497.405 184.676 494.535 184.676 L491.132 184.676 L491.132 181.112 L493.632 181.112 Q495.391 181.112 496.364 180.278 Q497.336 179.445 498.516 176.343 L499.28 174.399 L488.794 148.889 L493.308 148.889 L501.41 169.167 L509.512 148.889 L514.026 148.889 L502.637 177.223 Z\" fill=\"#000000\" fill-rule=\"nonzero\" fill-opacity=\"1\" /><path clip-path=\"url(#clip250)\" d=\"M521.317 170.88 L528.956 170.88 L528.956 144.515 L520.646 146.181 L520.646 141.922 L528.91 140.255 L533.586 140.255 L533.586 170.88 L541.225 170.88 L541.225 174.815 L521.317 174.815 L521.317 170.88 Z\" fill=\"#000000\" fill-rule=\"nonzero\" fill-opacity=\"1\" /></svg>\n"
      ]
     },
     "execution_count": 56,
     "metadata": {},
     "output_type": "execute_result"
    }
   ],
   "source": [
    "using Plots;\n",
    "plot(square, 0:0.1:1)"
   ]
  },
  {
   "cell_type": "code",
   "execution_count": 15,
   "id": "1b86e5f1",
   "metadata": {},
   "outputs": [
    {
     "data": {
      "text/plain": [
       "6"
      ]
     },
     "execution_count": 57,
     "metadata": {},
     "output_type": "execute_result"
    }
   ],
   "source": [
    "norm(s::AbstractString) = length(s)\n",
    "norm(\"Hello!\")"
   ]
  }
 ],
 "metadata": {
  "kernelspec": {
   "display_name": "Julia 1.10.4",
   "language": "julia",
   "name": "julia-1.10",
   "path": "/home/vituri/.local/share/jupyter/kernels/julia-1.10"
  }
 },
 "nbformat": 4,
 "nbformat_minor": 5
}