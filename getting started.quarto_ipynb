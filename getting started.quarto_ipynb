{
  "cells": [
    {
      "cell_type": "markdown",
      "metadata": {},
      "source": [
        "---\n",
        "\n",
        "execute:\n",
        "  freeze: true  # re-render only when source changes\n",
        "  cache: true\n",
        "  warning: false\n",
        "---\n",
        "\n",
        "\n",
        "\n",
        "\n",
        "\n",
        "\n",
        "# Getting started\n",
        "\n",
        "Now you are convinced that Julia is really nice and fast, and that Topological data analysis is a very unique tool. It is time to start applying!\n",
        "\n",
        "## Persistent homology\n",
        "\n",
        "Let's quickly review what is persistent homology and why it is useful.\n",
        "\n",
        "Given a finite metric space $M$, for each $\\epsilon > 0$ we create a simplicial complex $K_\\epsilon$ in such a way that $\\epsilon_1 < \\epsilon_2$ implies $K_{\\epsilon} \\subset K_{\\epsilon'}$.\n",
        "\n",
        "There are several ways to create this simplicial complex. One famous construction is the Vietoris-Rips complex:\n",
        "\n",
        "$$\n",
        "VR_\\epsilon(M) = \\{ [x_1, \\cdots, x_n] \\subset M \\; \\text{s.t.} \\; d(x_i, x_j) < \\epsilon, \\; \\forall i, j \\}\n",
        "$$\n",
        "\n",
        "![As $\\epsilon$ increases, so do the amount of complexes we have. Source: see vr !!](images/getting-started/vr.png)\n",
        "\n",
        "Applying the homology functor with field coefficients\n",
        "\n",
        "$$\n",
        "V_\\epsilon = H_n(K_\\epsilon)\n",
        "$$\n",
        "\n",
        "we obtain a sequence of vector spaces together with linear transformations\n",
        "\n",
        "$$\n",
        "\\mathbb{V} = \\{ V_\\epsilon \\to V_{\\epsilon'} \\; \\epsilon <= \\epsilon' \\}\n",
        "$$\n",
        "\n",
        "This _persistent vector space_ can be summarised in two equivalent ways: \n",
        "\n",
        "- as a _barcode_: a (multi)set of intervals $\\{ [a_i, b_i) for i \\in I \\}$ \n",
        "\n",
        "- as a _persistence diagram_: a subset of $\\mathbb{R}^2$ of the form $\\{ (a_i, b_i) for i \\in I \\}.\n",
        "\n",
        "Each pair $(a_i, b_i)$ can be interpreted as follows: $a_i$ is the value of $\\epsilon$ at which a feature (i.e. a generator of $H_n(K_\\epsilon)$) was \"born\", and this generator persisted until it reached $b_i$. See the following image for the representation of a barcode.\n",
        "\n",
        "![R. Ghrist, “Barcodes: The persistent topology of data,” Bulletin-American Mathematical Society 45, 1-15 (2008)](images/getting-started/ph.png)\n",
        "\n",
        "! It is possible to define a metric \n",
        "! stability\n",
        "! points close to diagonal are noise\n",
        "! bottleneck as lesser work to move intervals\n",
        "\n",
        "The following beautiful gifs can be found at the [Ripserer.jl](https://mtsch.github.io/Ripserer.jl/dev/generated/stability/) documentation.\n",
        "\n",
        "![Taking random samples of the circle result in pretty similar persistent diagrams.](images/getting-started/rips1.gif)\n",
        "\n",
        "![Addin some noise to the circle does not modify so much the persistent diagram.](images/getting-started/rips2.gif)\n",
        "\n",
        "![The persistent diagram slowly deformates itself as we add more noise to the circle.](images/getting-started/rips3.gif)\n",
        "\n",
        "![Collapsing the circle also make the 1-dimensional persistence diagram get close to the diagonal.](images/getting-started/rips4.gif)\n",
        "\n",
        "\n",
        "## Classic topology\n",
        "\n",
        "Let's start exploring some common objects in topology.\n"
      ],
      "id": "523d1463"
    },
    {
      "cell_type": "code",
      "metadata": {},
      "source": [
        "using MetricSpaces;\n",
        "import CairoMakie as gl;\n",
        "\n",
        "import Ripserer;\n",
        "# import PersistenceDiagrams as Pd\n",
        "import Plots;\n",
        "\n",
        "function plot_barcode(bc)\n",
        "Plots.plot(\n",
        "    Plots.plot(bc)\n",
        "    ,Ripserer.barcode(bc)\n",
        ")\n",
        "end;"
      ],
      "id": "4c9eb362",
      "execution_count": null,
      "outputs": []
    },
    {
      "cell_type": "markdown",
      "metadata": {},
      "source": [
        "### Torus\n"
      ],
      "id": "45054ea5"
    },
    {
      "cell_type": "code",
      "metadata": {},
      "source": [
        "X = torus(1500)\n",
        "gl.scatter(X)"
      ],
      "id": "76dd66bc",
      "execution_count": null,
      "outputs": []
    },
    {
      "cell_type": "code",
      "metadata": {},
      "source": [
        "bc = Ripserer.ripserer(X, dim_max = 1, verbose = true, threshold = 4)\n",
        "plot_barcode(bc)"
      ],
      "id": "c665f512",
      "execution_count": null,
      "outputs": []
    },
    {
      "cell_type": "markdown",
      "metadata": {},
      "source": [
        "### Circle\n"
      ],
      "id": "e1ad678b"
    },
    {
      "cell_type": "code",
      "metadata": {},
      "source": [
        "X = sphere(200, dim = 2)\n",
        "gl.scatter(X)"
      ],
      "id": "0eeb9195",
      "execution_count": null,
      "outputs": []
    },
    {
      "cell_type": "code",
      "metadata": {},
      "source": [
        "bv = Ripserer.ripserer(X, dim_max = 1, verbose = true)\n",
        "plot_barcode(bc)"
      ],
      "id": "d1f5d438",
      "execution_count": null,
      "outputs": []
    },
    {
      "cell_type": "markdown",
      "metadata": {},
      "source": [
        "### Sphere\n"
      ],
      "id": "ed86bb35"
    },
    {
      "cell_type": "code",
      "metadata": {},
      "source": [
        "X = sphere(1500, dim = 3)\n",
        "gl.scatter(X)"
      ],
      "id": "057e1a3c",
      "execution_count": null,
      "outputs": []
    },
    {
      "cell_type": "code",
      "metadata": {},
      "source": [
        "bc = Ripserer.ripserer(X, dim_max = 1, verbose = true)\n",
        "plot_barcode(bc)"
      ],
      "id": "5e69f484",
      "execution_count": null,
      "outputs": []
    },
    {
      "cell_type": "markdown",
      "metadata": {},
      "source": [
        "### A square with a hole\n"
      ],
      "id": "947954b9"
    },
    {
      "cell_type": "code",
      "metadata": {},
      "source": [
        "X = rand(gl.Point2, 1500)\n",
        "filter!(x -> (x[1]-0.5)^2 + (x[2]-0.5)^2 > 0.03, X)\n",
        "gl.scatter(X)"
      ],
      "id": "7c588ff2",
      "execution_count": null,
      "outputs": []
    },
    {
      "cell_type": "code",
      "metadata": {},
      "source": [
        "bc = Ripserer.ripserer(X, dim_max = 1, verbose = true)\n",
        "plot_barcode(bc)"
      ],
      "id": "89d86c22",
      "execution_count": null,
      "outputs": []
    },
    {
      "cell_type": "markdown",
      "metadata": {},
      "source": [
        "### Two circles\n"
      ],
      "id": "cebd7210"
    },
    {
      "cell_type": "code",
      "metadata": {},
      "source": [
        "X = vcat(\n",
        "    sphere(150, dim = 2)\n",
        "    ,sphere(150, dim = 2) .|> x -> (x .+ (1, 1))\n",
        ")\n",
        "\n",
        "gl.scatter(X)"
      ],
      "id": "e2fec76c",
      "execution_count": null,
      "outputs": []
    },
    {
      "cell_type": "code",
      "metadata": {},
      "source": [
        "bc = Ripserer.ripserer(X, dim_max = 1, verbose = true)\n",
        "plot_barcode(bc)"
      ],
      "id": "6814703a",
      "execution_count": null,
      "outputs": []
    }
  ],
  "metadata": {
    "kernelspec": {
      "name": "julia-nodeps-1.9",
      "language": "julia",
      "display_name": "Julia nodeps 1.9.3",
      "path": "/home/vituri/.local/share/jupyter/kernels/julia-nodeps-1.9"
    }
  },
  "nbformat": 4,
  "nbformat_minor": 5
}